{
 "cells": [
  {
   "cell_type": "markdown",
   "id": "6a30b7ee",
   "metadata": {},
   "source": [
    "# Chipotle Exercise"
   ]
  },
  {
   "cell_type": "markdown",
   "id": "57c4bef6",
   "metadata": {},
   "source": [
    "Chipotle Mexican Grill, Inc., often known simply as Chipotle, is an American chain of fast casual restaurants in the United States. Using the sales log we will analyze Chipotle's revenue"
   ]
  },
  {
   "cell_type": "markdown",
   "id": "781042d8",
   "metadata": {},
   "source": [
    "Exercise Goals & Objectives:\n",
    "- Learn and prctice Pandas\n",
    "- Practice filtering DataFrame\n",
    "- Practice Pandas function groupby()\n",
    "- Practice Matplotlib"
   ]
  },
  {
   "cell_type": "markdown",
   "id": "142cca31",
   "metadata": {},
   "source": [
    "Data Set:\n",
    "- Using Pandas pd.read_csv() function read **chipotle.csv** file, saved in the datasets folder"
   ]
  },
  {
   "cell_type": "markdown",
   "id": "fa123998",
   "metadata": {},
   "source": [
    "# 1. Import all necessary libriaries"
   ]
  },
  {
   "cell_type": "code",
   "execution_count": 1,
   "id": "f2918893",
   "metadata": {},
   "outputs": [],
   "source": []
  },
  {
   "cell_type": "markdown",
   "id": "3086000f",
   "metadata": {},
   "source": [
    "# 2. Read the file in DataFrame format"
   ]
  },
  {
   "cell_type": "markdown",
   "id": "acf20c99",
   "metadata": {},
   "source": [
    "If pd.read_csv() gives you encoding error use keyword argument in the function encoding=\"Latin1\", also Windows might require liitle r letter before the file path\n",
    "```\n",
    "example:\n",
    "pd.read_csv(r\"file/path\")\n",
    "```"
   ]
  },
  {
   "cell_type": "markdown",
   "id": "b95c3ec9",
   "metadata": {},
   "source": [
    "# 3. Rename the column \"item_price\" into \"amount\""
   ]
  },
  {
   "cell_type": "code",
   "execution_count": 3,
   "id": "29b8e30a",
   "metadata": {},
   "outputs": [],
   "source": []
  },
  {
   "cell_type": "markdown",
   "id": "0f98ccb1",
   "metadata": {},
   "source": [
    "# 4. Convert the values in \"amount\" column to numeric data types and seve them under the same column name \"amount\""
   ]
  },
  {
   "cell_type": "code",
   "execution_count": 7,
   "id": "2767913b",
   "metadata": {},
   "outputs": [],
   "source": []
  },
  {
   "cell_type": "markdown",
   "id": "0cc6ba04",
   "metadata": {},
   "source": [
    "# 5. Get the price of each item, check the quantity column values and seve the price of each item under new column name \"price\""
   ]
  },
  {
   "cell_type": "code",
   "execution_count": 8,
   "id": "02f1f3d2",
   "metadata": {},
   "outputs": [],
   "source": []
  },
  {
   "cell_type": "markdown",
   "id": "69df8069",
   "metadata": {},
   "source": [
    "# 6. How many unique items Chipotle offers to its customers"
   ]
  },
  {
   "cell_type": "code",
   "execution_count": 11,
   "id": "69582e62",
   "metadata": {},
   "outputs": [
    {
     "data": {
      "text/plain": [
       "50"
      ]
     },
     "execution_count": 11,
     "metadata": {},
     "output_type": "execute_result"
    }
   ],
   "source": []
  },
  {
   "cell_type": "markdown",
   "id": "0a891f6d",
   "metadata": {},
   "source": [
    "# 7. What are the most expensive items in the menu"
   ]
  },
  {
   "cell_type": "code",
   "execution_count": null,
   "id": "c86962c6",
   "metadata": {},
   "outputs": [],
   "source": []
  },
  {
   "cell_type": "markdown",
   "id": "006993f8",
   "metadata": {},
   "source": [
    "# 8. How many products cost less than $5.00? "
   ]
  },
  {
   "cell_type": "code",
   "execution_count": 16,
   "id": "d2f82481",
   "metadata": {},
   "outputs": [
    {
     "data": {
      "text/plain": [
       "16"
      ]
     },
     "execution_count": 16,
     "metadata": {},
     "output_type": "execute_result"
    }
   ],
   "source": []
  },
  {
   "cell_type": "markdown",
   "id": "48100057",
   "metadata": {},
   "source": [
    "# 9. What was the most expensive item ordered in the whole dataset?"
   ]
  },
  {
   "cell_type": "code",
   "execution_count": 17,
   "id": "d6cab435",
   "metadata": {},
   "outputs": [
    {
     "data": {
      "text/html": [
       "<div>\n",
       "<style scoped>\n",
       "    .dataframe tbody tr th:only-of-type {\n",
       "        vertical-align: middle;\n",
       "    }\n",
       "\n",
       "    .dataframe tbody tr th {\n",
       "        vertical-align: top;\n",
       "    }\n",
       "\n",
       "    .dataframe thead th {\n",
       "        text-align: right;\n",
       "    }\n",
       "</style>\n",
       "<table border=\"1\" class=\"dataframe\">\n",
       "  <thead>\n",
       "    <tr style=\"text-align: right;\">\n",
       "      <th></th>\n",
       "      <th>order_id</th>\n",
       "      <th>quantity</th>\n",
       "      <th>item_name</th>\n",
       "      <th>choice_description</th>\n",
       "      <th>amount</th>\n",
       "      <th>price</th>\n",
       "    </tr>\n",
       "  </thead>\n",
       "  <tbody>\n",
       "    <tr>\n",
       "      <th>3598</th>\n",
       "      <td>1443</td>\n",
       "      <td>15</td>\n",
       "      <td>Chips and Fresh Tomato Salsa</td>\n",
       "      <td>NaN</td>\n",
       "      <td>44.25</td>\n",
       "      <td>2.95</td>\n",
       "    </tr>\n",
       "  </tbody>\n",
       "</table>\n",
       "</div>"
      ],
      "text/plain": [
       "      order_id  quantity                     item_name choice_description  \\\n",
       "3598      1443        15  Chips and Fresh Tomato Salsa                NaN   \n",
       "\n",
       "      amount  price  \n",
       "3598   44.25   2.95  "
      ]
     },
     "execution_count": 17,
     "metadata": {},
     "output_type": "execute_result"
    }
   ],
   "source": []
  },
  {
   "cell_type": "markdown",
   "id": "a182729c",
   "metadata": {},
   "source": [
    "# 10. What is the revenue from the sales of \"Chicken Bowl\""
   ]
  },
  {
   "cell_type": "code",
   "execution_count": 21,
   "id": "05b6cd2a",
   "metadata": {},
   "outputs": [
    {
     "data": {
      "text/plain": [
       "7342.73"
      ]
     },
     "execution_count": 21,
     "metadata": {},
     "output_type": "execute_result"
    }
   ],
   "source": []
  },
  {
   "cell_type": "markdown",
   "id": "4b69b36a",
   "metadata": {},
   "source": [
    "# 11. What % of total revenue is Chicken Bowl revenue"
   ]
  },
  {
   "cell_type": "code",
   "execution_count": 22,
   "id": "84696ba7",
   "metadata": {},
   "outputs": [
    {
     "data": {
      "text/plain": [
       "0.2128317665773144"
      ]
     },
     "execution_count": 22,
     "metadata": {},
     "output_type": "execute_result"
    }
   ],
   "source": []
  },
  {
   "cell_type": "markdown",
   "id": "64bd8c51",
   "metadata": {},
   "source": [
    "# 12. How many times people orderd more than one Canned Soda?"
   ]
  },
  {
   "cell_type": "code",
   "execution_count": 25,
   "id": "893b329a",
   "metadata": {},
   "outputs": [
    {
     "data": {
      "text/plain": [
       "order_id              20\n",
       "quantity              20\n",
       "item_name             20\n",
       "choice_description    20\n",
       "amount                20\n",
       "price                 20\n",
       "dtype: int64"
      ]
     },
     "execution_count": 25,
     "metadata": {},
     "output_type": "execute_result"
    }
   ],
   "source": []
  },
  {
   "cell_type": "markdown",
   "id": "e3025459",
   "metadata": {},
   "source": [
    "# 13. Get the revenue of each item in the dataset using function groupby()"
   ]
  },
  {
   "cell_type": "markdown",
   "id": "0e9ddc60",
   "metadata": {},
   "source": [
    "# 14. Sort Revenue in descending order"
   ]
  },
  {
   "cell_type": "code",
   "execution_count": 29,
   "id": "37f7d37c",
   "metadata": {},
   "outputs": [
    {
     "data": {
      "text/plain": [
       "item_name\n",
       "Chicken Bowl                             7342.73\n",
       "Chicken Burrito                          5575.82\n",
       "Steak Burrito                            3851.43\n",
       "Steak Bowl                               2260.19\n",
       "Chips and Guacamole                      2201.04\n",
       "Chicken Salad Bowl                       1228.75\n",
       "Chicken Soft Tacos                       1108.09\n",
       "Veggie Burrito                            934.77\n",
       "Barbacoa Burrito                          894.75\n",
       "Veggie Bowl                               867.99\n",
       "Carnitas Bowl                             736.71\n",
       "Barbacoa Bowl                             672.36\n",
       "Carnitas Burrito                          597.83\n",
       "Steak Soft Tacos                          536.05\n",
       "Chips                                     494.34\n",
       "Chicken Crispy Tacos                      472.13\n",
       "Canned Soft Drink                         438.75\n",
       "Carnitas Soft Tacos                       375.94\n",
       "Chips and Fresh Tomato Salsa              361.36\n",
       "Steak Crispy Tacos                        357.34\n",
       "6 Pack Soft Drink                         356.95\n",
       "Steak Salad Bowl                          343.59\n",
       "Bottled Water                             302.56\n",
       "Barbacoa Soft Tacos                       250.46\n",
       "Side of Chips                             185.90\n",
       "Veggie Salad Bowl                         182.50\n",
       "Chips and Tomatillo Red Chili Salsa       147.50\n",
       "Canned Soda                               137.34\n",
       "Chips and Tomatillo Green Chili Salsa     132.75\n",
       "Barbacoa Crispy Tacos                     120.21\n",
       "Barbacoa Salad Bowl                       106.40\n",
       "Nantucket Nectar                           98.31\n",
       "Chicken Salad                              81.09\n",
       "Chips and Tomatillo-Green Chili Salsa      78.87\n",
       "Carnitas Crispy Tacos                      77.96\n",
       "Veggie Soft Tacos                          73.96\n",
       "Chips and Roasted Chili Corn Salsa         67.85\n",
       "Izze                                       67.80\n",
       "Carnitas Salad Bowl                        66.34\n",
       "Chips and Tomatillo-Red Chili Salsa        59.75\n",
       "Veggie Salad                               50.94\n",
       "Burrito                                    44.40\n",
       "Chips and Roasted Chili-Corn Salsa         43.02\n",
       "Steak Salad                                35.66\n",
       "Bowl                                       29.60\n",
       "Salad                                      14.80\n",
       "Crispy Tacos                               14.80\n",
       "Carnitas Salad                              8.99\n",
       "Veggie Crispy Tacos                         8.49\n",
       "Chips and Mild Fresh Tomato Salsa           3.00\n",
       "Name: amount, dtype: float64"
      ]
     },
     "execution_count": 29,
     "metadata": {},
     "output_type": "execute_result"
    }
   ],
   "source": []
  },
  {
   "cell_type": "markdown",
   "id": "723358a1",
   "metadata": {},
   "source": [
    "# 15. Plot the 5 top sellers by revenue as a pie chart"
   ]
  },
  {
   "cell_type": "code",
   "execution_count": 33,
   "id": "47c8dd80",
   "metadata": {},
   "outputs": [
    {
     "data": {
      "image/png": "[encoded data removed]",
      "text/plain": [
       "<Figure size 432x288 with 1 Axes>"
      ]
     },
     "metadata": {},
     "output_type": "display_data"
    }
   ],
   "source": []
  },
  {
   "cell_type": "code",
   "execution_count": null,
   "id": "3169b5e0",
   "metadata": {},
   "outputs": [],
   "source": []
  }
 ],
 "metadata": {
  "kernelspec": {
   "display_name": "Python 3 (ipykernel)",
   "language": "python",
   "name": "python3"
  },
  "language_info": {
   "codemirror_mode": {
    "name": "ipython",
    "version": 3
   },
   "file_extension": ".py",
   "mimetype": "text/x-python",
   "name": "python",
   "nbconvert_exporter": "python",
   "pygments_lexer": "ipython3",
   "version": "3.9.7"
  }
 },
 "nbformat": 4,
 "nbformat_minor": 5
}
