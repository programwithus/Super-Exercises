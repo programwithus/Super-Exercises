{
 "cells": [
  {
   "cell_type": "markdown",
   "id": "7e58b86c",
   "metadata": {},
   "source": [
    "# Zomato Exercise Solution"
   ]
  },
  {
   "cell_type": "markdown",
   "id": "d301e2d6",
   "metadata": {},
   "source": [
    "In this exercise we will analize the data set form very popular restaurant agrigator Zomato https://www.zomato.com"
   ]
  },
  {
   "cell_type": "markdown",
   "id": "a6cbd94a",
   "metadata": {},
   "source": [
    "Exercise Goals & Objectives:\n",
    "- Learn and prctice Pandas\n",
    "- Practice filtering DataFrame\n",
    "- Practice Matplotlib"
   ]
  },
  {
   "cell_type": "markdown",
   "id": "6e02fb4b",
   "metadata": {},
   "source": [
    "Data Set:\n",
    "- Using Pandas pd.read_csv() function read **zomato.csv** file, saved in the datasets folder"
   ]
  },
  {
   "cell_type": "markdown",
   "id": "d60420b6",
   "metadata": {},
   "source": [
    "# 1. Import all necessary libriaries"
   ]
  },
  {
   "cell_type": "code",
   "execution_count": null,
   "id": "0658553d",
   "metadata": {},
   "outputs": [],
   "source": []
  },
  {
   "cell_type": "markdown",
   "id": "2cdf22e8",
   "metadata": {},
   "source": [
    "# 2. Read the file in DataFrame format"
   ]
  },
  {
   "cell_type": "markdown",
   "id": "8f521a2e",
   "metadata": {},
   "source": [
    "If pd.read_csv() gives you encoding error use keyword argument in the function encoding=\"Latin1\", also Windows might require liitle r letter before the file path\n",
    "```\n",
    "example:\n",
    "pd.read_csv(r\"file/path\")\n",
    "```"
   ]
  },
  {
   "cell_type": "code",
   "execution_count": null,
   "id": "fe9c93b8",
   "metadata": {},
   "outputs": [],
   "source": []
  },
  {
   "cell_type": "markdown",
   "id": "edcdcf3d",
   "metadata": {},
   "source": [
    "# 3. Use function head() to see the first 5 rows"
   ]
  },
  {
   "cell_type": "code",
   "execution_count": null,
   "id": "2c025ad1",
   "metadata": {},
   "outputs": [],
   "source": []
  },
  {
   "cell_type": "markdown",
   "id": "a8280bdb",
   "metadata": {},
   "source": [
    "# 4. How many restaurants have the highest Aggregate rating?"
   ]
  },
  {
   "cell_type": "code",
   "execution_count": null,
   "id": "bd991b93",
   "metadata": {},
   "outputs": [],
   "source": []
  },
  {
   "cell_type": "markdown",
   "id": "af111fad",
   "metadata": {},
   "source": [
    "# 5. What % of all restaurants have the highest rating?"
   ]
  },
  {
   "cell_type": "code",
   "execution_count": null,
   "id": "55fd35b7",
   "metadata": {},
   "outputs": [],
   "source": []
  },
  {
   "cell_type": "markdown",
   "id": "2c89a142",
   "metadata": {},
   "source": [
    "# 6. How many restaurants are in Abu Dhabi?"
   ]
  },
  {
   "cell_type": "code",
   "execution_count": null,
   "id": "812122c5",
   "metadata": {},
   "outputs": [],
   "source": []
  },
  {
   "cell_type": "markdown",
   "id": "4b0c5f3e",
   "metadata": {},
   "source": [
    "# 7. How many restaurants in the state of WA (use column Address) ?"
   ]
  },
  {
   "cell_type": "code",
   "execution_count": null,
   "id": "16a2e46a",
   "metadata": {},
   "outputs": [],
   "source": []
  },
  {
   "cell_type": "markdown",
   "id": "162db471",
   "metadata": {},
   "source": [
    "# 8. Get the restauranst with the highest rating in New Delhi"
   ]
  },
  {
   "cell_type": "code",
   "execution_count": null,
   "id": "6c4e331a",
   "metadata": {},
   "outputs": [],
   "source": []
  },
  {
   "cell_type": "markdown",
   "id": "74fce259",
   "metadata": {},
   "source": [
    "# 9. Which cousine is more popular Chinese of American?"
   ]
  },
  {
   "cell_type": "code",
   "execution_count": null,
   "id": "7d67ded8",
   "metadata": {},
   "outputs": [],
   "source": []
  },
  {
   "cell_type": "markdown",
   "id": "536f4a5c",
   "metadata": {},
   "source": [
    "# 10. What is the name and rating of the most expensive restaurant for two ('Average Cost for two')?"
   ]
  },
  {
   "cell_type": "code",
   "execution_count": null,
   "id": "f27409fd",
   "metadata": {},
   "outputs": [],
   "source": []
  },
  {
   "cell_type": "markdown",
   "id": "6ebd9eaf",
   "metadata": {},
   "source": [
    "# 11. Find the most expensive Chinese restaurant in New Delhi in US Dollars 1 Indian Rupee is 0.013 United States Dollar"
   ]
  },
  {
   "cell_type": "code",
   "execution_count": null,
   "id": "014715a5",
   "metadata": {},
   "outputs": [],
   "source": []
  },
  {
   "cell_type": "markdown",
   "id": "40635b47",
   "metadata": {},
   "source": [
    "# 12. Plot as a pie 5 cities with the highest number of restaurants"
   ]
  },
  {
   "cell_type": "code",
   "execution_count": null,
   "id": "11fb21d1",
   "metadata": {},
   "outputs": [],
   "source": []
  }
 ],
 "metadata": {
  "kernelspec": {
   "display_name": "Python 3 (ipykernel)",
   "language": "python",
   "name": "python3"
  },
  "language_info": {
   "codemirror_mode": {
    "name": "ipython",
    "version": 3
   },
   "file_extension": ".py",
   "mimetype": "text/x-python",
   "name": "python",
   "nbconvert_exporter": "python",
   "pygments_lexer": "ipython3",
   "version": "3.9.7"
  }
 },
 "nbformat": 4,
 "nbformat_minor": 5
}
