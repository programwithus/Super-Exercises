{
 "cells": [
  {
   "cell_type": "markdown",
   "id": "6845080d",
   "metadata": {},
   "source": [
    "# Netflix Visualizations EDA Exercise"
   ]
  },
  {
   "cell_type": "markdown",
   "id": "e10fd059",
   "metadata": {},
   "source": [
    "In this exercise we will go over the Netflix movies and shows. We will practice EDA. In statistics, exploratory data analysis is an approach of analyzing data sets to summarize their main characteristics, often using statistical graphics and other data visualization methods. "
   ]
  },
  {
   "cell_type": "markdown",
   "id": "8a5dfd0b",
   "metadata": {},
   "source": [
    "Exercise Goals & Objectives:\n",
    "- Learn and prctice Pandas\n",
    "- Practice filtering DataFrame\n",
    "- Practice Matplotlib\n",
    "- Practice EDA "
   ]
  },
  {
   "cell_type": "markdown",
   "id": "dd2d2993",
   "metadata": {},
   "source": [
    "Data Set:\n",
    "Using Pandas pd.read_csv() function read netflix_titles.csv file, saved in the datasets folder"
   ]
  },
  {
   "cell_type": "markdown",
   "id": "a3871b26",
   "metadata": {},
   "source": [
    "# 1. Import all necessary libriaries"
   ]
  },
  {
   "cell_type": "code",
   "execution_count": 3,
   "id": "7135b23b",
   "metadata": {},
   "outputs": [],
   "source": []
  },
  {
   "cell_type": "markdown",
   "id": "623dea77",
   "metadata": {},
   "source": [
    "# 2. Read the file in DataFrame format"
   ]
  },
  {
   "cell_type": "code",
   "execution_count": 4,
   "id": "0bf351b0",
   "metadata": {},
   "outputs": [],
   "source": []
  },
  {
   "cell_type": "markdown",
   "id": "d1773ab5",
   "metadata": {},
   "source": [
    "# 3. Use function info() to explore dataset DataTypes values"
   ]
  },
  {
   "cell_type": "code",
   "execution_count": null,
   "id": "470bf140",
   "metadata": {},
   "outputs": [],
   "source": []
  },
  {
   "cell_type": "markdown",
   "id": "cd5f0846",
   "metadata": {},
   "source": [
    "# Data Cleaning"
   ]
  },
  {
   "cell_type": "markdown",
   "id": "b19cd0f4",
   "metadata": {},
   "source": [
    "# 4. Lets check how many nulls are there in the data"
   ]
  },
  {
   "cell_type": "code",
   "execution_count": 7,
   "id": "18e0b736",
   "metadata": {},
   "outputs": [
    {
     "data": {
      "text/plain": [
       "show_id            0\n",
       "title              0\n",
       "director        1901\n",
       "cast             556\n",
       "country          427\n",
       "date_added       642\n",
       "release_year       0\n",
       "rating            10\n",
       "duration           0\n",
       "listed_in          0\n",
       "description        0\n",
       "type               0\n",
       "dtype: int64"
      ]
     },
     "execution_count": 7,
     "metadata": {},
     "output_type": "execute_result"
    }
   ],
   "source": []
  },
  {
   "cell_type": "markdown",
   "id": "d8cea2b2",
   "metadata": {},
   "source": [
    "# 5. Fill missing values in the rating column with 'TV-MA'"
   ]
  },
  {
   "cell_type": "code",
   "execution_count": null,
   "id": "f66a5748",
   "metadata": {},
   "outputs": [],
   "source": []
  },
  {
   "cell_type": "markdown",
   "id": "69ee4a31",
   "metadata": {},
   "source": [
    "# 4. Drop the rows with missing values using dropna() function"
   ]
  },
  {
   "cell_type": "code",
   "execution_count": 9,
   "id": "baecc851",
   "metadata": {},
   "outputs": [],
   "source": []
  },
  {
   "cell_type": "markdown",
   "id": "9728a378",
   "metadata": {},
   "source": [
    "# 5. There are some entry where \"country\" has multiple values. so i think i will add a new column with just the first one so we can check witch regions have more production"
   ]
  },
  {
   "cell_type": "markdown",
   "id": "c7af57fb",
   "metadata": {},
   "source": [
    "Hint: use apply() and lambda"
   ]
  },
  {
   "cell_type": "code",
   "execution_count": 10,
   "id": "9ffc524d",
   "metadata": {},
   "outputs": [],
   "source": []
  },
  {
   "cell_type": "markdown",
   "id": "f4a5c1f7",
   "metadata": {},
   "source": [
    "# 6. Rating may be confusing lets add new column rating_age and replace() ratings with Kids or Adults"
   ]
  },
  {
   "cell_type": "markdown",
   "id": "d4784486",
   "metadata": {},
   "source": [
    "Hint: use ratings_ages and the DataFrame method replace()"
   ]
  },
  {
   "cell_type": "code",
   "execution_count": 11,
   "id": "c534078d",
   "metadata": {},
   "outputs": [],
   "source": [
    "ratings_ages = {\n",
    "    'TV-PG': 'Older Kids',\n",
    "    'TV-MA': 'Adults',\n",
    "    'TV-Y7-FV': 'Older Kids',\n",
    "    'TV-Y7': 'Older Kids',\n",
    "    'TV-14': 'Teens',\n",
    "    'R': 'Adults',\n",
    "    'TV-Y': 'Kids',\n",
    "    'NR': 'Adults',\n",
    "    'PG-13': 'Teens',\n",
    "    'TV-G': 'Kids',\n",
    "    'PG': 'Older Kids',\n",
    "    'G': 'Kids',\n",
    "    'UR': 'Adults',\n",
    "    'NC-17': 'Adults'\n",
    "}"
   ]
  },
  {
   "cell_type": "code",
   "execution_count": 12,
   "id": "d28af952",
   "metadata": {},
   "outputs": [],
   "source": []
  },
  {
   "cell_type": "markdown",
   "id": "fbaca96c",
   "metadata": {},
   "source": [
    "# EDA"
   ]
  },
  {
   "cell_type": "markdown",
   "id": "a6d821e6",
   "metadata": {},
   "source": [
    "# 7. How many Movies vs TV Shows on Netflix"
   ]
  },
  {
   "cell_type": "code",
   "execution_count": 13,
   "id": "32d73531",
   "metadata": {
    "scrolled": true
   },
   "outputs": [
    {
     "data": {
      "text/plain": [
       "type\n",
       "Movie      3388\n",
       "TV Show      63\n",
       "Name: title, dtype: int64"
      ]
     },
     "execution_count": 13,
     "metadata": {},
     "output_type": "execute_result"
    }
   ],
   "source": []
  },
  {
   "cell_type": "markdown",
   "id": "5c90669c",
   "metadata": {},
   "source": [
    "# 8. PLot the numbers as bar plot"
   ]
  },
  {
   "cell_type": "code",
   "execution_count": 14,
   "id": "36588c9f",
   "metadata": {},
   "outputs": [
    {
     "data": {
      "image/png": "[encoded data removed]",
      "text/plain": [
       "<Figure size 432x288 with 1 Axes>"
      ]
     },
     "metadata": {
      "needs_background": "light"
     },
     "output_type": "display_data"
    }
   ],
   "source": []
  },
  {
   "cell_type": "markdown",
   "id": "fe196014",
   "metadata": {},
   "source": [
    "# 9. Convert the values in \"date_added\" column to DateTime objects"
   ]
  },
  {
   "cell_type": "markdown",
   "id": "f64687f9",
   "metadata": {},
   "source": [
    "Hint: use apply(pd.to_datetime)"
   ]
  },
  {
   "cell_type": "code",
   "execution_count": 15,
   "id": "443d55c9",
   "metadata": {},
   "outputs": [],
   "source": []
  },
  {
   "cell_type": "markdown",
   "id": "6092d647",
   "metadata": {},
   "source": [
    "# 10. Find the earliest TV Show added to Netflix?"
   ]
  },
  {
   "cell_type": "code",
   "execution_count": 16,
   "id": "c840a995",
   "metadata": {},
   "outputs": [
    {
     "data": {
      "text/html": [
       "<div>\n",
       "<style scoped>\n",
       "    .dataframe tbody tr th:only-of-type {\n",
       "        vertical-align: middle;\n",
       "    }\n",
       "\n",
       "    .dataframe tbody tr th {\n",
       "        vertical-align: top;\n",
       "    }\n",
       "\n",
       "    .dataframe thead th {\n",
       "        text-align: right;\n",
       "    }\n",
       "</style>\n",
       "<table border=\"1\" class=\"dataframe\">\n",
       "  <thead>\n",
       "    <tr style=\"text-align: right;\">\n",
       "      <th></th>\n",
       "      <th>show_id</th>\n",
       "      <th>title</th>\n",
       "      <th>director</th>\n",
       "      <th>cast</th>\n",
       "      <th>country</th>\n",
       "      <th>date_added</th>\n",
       "      <th>release_year</th>\n",
       "      <th>rating</th>\n",
       "      <th>duration</th>\n",
       "      <th>listed_in</th>\n",
       "      <th>description</th>\n",
       "      <th>type</th>\n",
       "      <th>principal_country</th>\n",
       "      <th>target_ages</th>\n",
       "    </tr>\n",
       "  </thead>\n",
       "  <tbody>\n",
       "    <tr>\n",
       "      <th>5811</th>\n",
       "      <td>70259177</td>\n",
       "      <td>Jack Taylor</td>\n",
       "      <td>Stuart Orme</td>\n",
       "      <td>Iain Glen, Killian Scott, Nora-Jane Noone, Tar...</td>\n",
       "      <td>United States, Ireland</td>\n",
       "      <td>2013-03-31</td>\n",
       "      <td>2013</td>\n",
       "      <td>TV-MA</td>\n",
       "      <td>1 Season</td>\n",
       "      <td>Crime TV Shows, International TV Shows, TV Dramas</td>\n",
       "      <td>Ken Bruen's bestselling crime novels leap to l...</td>\n",
       "      <td>TV Show</td>\n",
       "      <td>United States</td>\n",
       "      <td>Adults</td>\n",
       "    </tr>\n",
       "  </tbody>\n",
       "</table>\n",
       "</div>"
      ],
      "text/plain": [
       "       show_id        title     director  \\\n",
       "5811  70259177  Jack Taylor  Stuart Orme   \n",
       "\n",
       "                                                   cast  \\\n",
       "5811  Iain Glen, Killian Scott, Nora-Jane Noone, Tar...   \n",
       "\n",
       "                     country date_added  release_year rating  duration  \\\n",
       "5811  United States, Ireland 2013-03-31          2013  TV-MA  1 Season   \n",
       "\n",
       "                                              listed_in  \\\n",
       "5811  Crime TV Shows, International TV Shows, TV Dramas   \n",
       "\n",
       "                                            description     type  \\\n",
       "5811  Ken Bruen's bestselling crime novels leap to l...  TV Show   \n",
       "\n",
       "     principal_country target_ages  \n",
       "5811     United States      Adults  "
      ]
     },
     "execution_count": 16,
     "metadata": {},
     "output_type": "execute_result"
    }
   ],
   "source": []
  },
  {
   "cell_type": "markdown",
   "id": "68945c27",
   "metadata": {},
   "source": [
    "# 11. Plot Number of Movies based on Rating System as horizontal bar plot"
   ]
  },
  {
   "cell_type": "markdown",
   "id": "a84f88f4",
   "metadata": {},
   "source": [
    "Hint: use plt.barh()"
   ]
  },
  {
   "cell_type": "code",
   "execution_count": 20,
   "id": "9ad46e74",
   "metadata": {},
   "outputs": [
    {
     "data": {
      "text/plain": [
       "type     rating  \n",
       "Movie    G             30\n",
       "         NC-17          1\n",
       "         NR           175\n",
       "         PG           154\n",
       "         PG-13        222\n",
       "         R            431\n",
       "         TV-14        804\n",
       "         TV-G          52\n",
       "         TV-MA       1112\n",
       "         TV-PG        328\n",
       "         TV-Y          21\n",
       "         TV-Y7         40\n",
       "         TV-Y7-FV      11\n",
       "         UR             7\n",
       "TV Show  R              1\n",
       "         TV-14         23\n",
       "         TV-G           1\n",
       "         TV-MA         27\n",
       "         TV-PG          6\n",
       "         TV-Y           2\n",
       "         TV-Y7          3\n",
       "Name: show_id, dtype: int64"
      ]
     },
     "execution_count": 20,
     "metadata": {},
     "output_type": "execute_result"
    }
   ],
   "source": []
  },
  {
   "cell_type": "code",
   "execution_count": 21,
   "id": "2c558a78",
   "metadata": {},
   "outputs": [],
   "source": []
  },
  {
   "cell_type": "code",
   "execution_count": 23,
   "id": "35769742",
   "metadata": {},
   "outputs": [
    {
     "data": {
      "image/png": "[encoded data removed]",
      "text/plain": [
       "<Figure size 432x288 with 1 Axes>"
      ]
     },
     "metadata": {
      "needs_background": "light"
     },
     "output_type": "display_data"
    }
   ],
   "source": []
  },
  {
   "cell_type": "markdown",
   "id": "1e6152c6",
   "metadata": {},
   "source": [
    "# 12. Plot Number of TV Shows based on Rating System as line"
   ]
  },
  {
   "cell_type": "markdown",
   "id": "8b1edb06",
   "metadata": {},
   "source": [
    "Hint: use plt.plot()"
   ]
  },
  {
   "cell_type": "code",
   "execution_count": 25,
   "id": "668770c5",
   "metadata": {},
   "outputs": [],
   "source": []
  },
  {
   "cell_type": "code",
   "execution_count": 26,
   "id": "b9ef0e6c",
   "metadata": {},
   "outputs": [
    {
     "data": {
      "image/png": "[encoded data removed]",
      "text/plain": [
       "<Figure size 864x576 with 1 Axes>"
      ]
     },
     "metadata": {
      "needs_background": "light"
     },
     "output_type": "display_data"
    }
   ],
   "source": []
  },
  {
   "cell_type": "markdown",
   "id": "4984127f",
   "metadata": {},
   "source": [
    "# 13. Plot Number of Movies and TV Shows added by year added as line"
   ]
  },
  {
   "cell_type": "code",
   "execution_count": 27,
   "id": "509d4955",
   "metadata": {},
   "outputs": [],
   "source": [
    "# Step 1. Get year out of date_added column\n",
    "#pandas datetimeindex docs: https://pandas.pydata.org/pandas-docs/stable/generated/pandas.DatetimeIndex.html\n"
   ]
  },
  {
   "cell_type": "code",
   "execution_count": 28,
   "id": "08b4712c",
   "metadata": {},
   "outputs": [
    {
     "data": {
      "text/plain": [
       "type     year_added\n",
       "Movie    2008             1\n",
       "         2009             2\n",
       "         2010             1\n",
       "         2011            13\n",
       "         2012             4\n",
       "         2013             6\n",
       "         2014            14\n",
       "         2015            47\n",
       "         2016           206\n",
       "         2017           780\n",
       "         2018          1122\n",
       "         2019          1192\n",
       "TV Show  2013             1\n",
       "         2015             2\n",
       "         2016             5\n",
       "         2017            17\n",
       "         2018            15\n",
       "         2019            23\n",
       "Name: title, dtype: int64"
      ]
     },
     "execution_count": 28,
     "metadata": {},
     "output_type": "execute_result"
    }
   ],
   "source": [
    "# Step 2. Sort values"
   ]
  },
  {
   "cell_type": "code",
   "execution_count": 29,
   "id": "0cbe2e42",
   "metadata": {
    "scrolled": true
   },
   "outputs": [
    {
     "data": {
      "image/png": "[encoded data removed]",
      "text/plain": [
       "<Figure size 432x288 with 1 Axes>"
      ]
     },
     "metadata": {
      "needs_background": "light"
     },
     "output_type": "display_data"
    }
   ],
   "source": [
    "# Step 3. Plot data"
   ]
  },
  {
   "cell_type": "markdown",
   "id": "66c49758",
   "metadata": {},
   "source": [
    "# 14. The same data, Number of Movies and TV Shows added by year added using barh()"
   ]
  },
  {
   "cell_type": "code",
   "execution_count": 31,
   "id": "8137fdaf",
   "metadata": {},
   "outputs": [
    {
     "data": {
      "text/plain": [
       "(0.0, 30.0)"
      ]
     },
     "execution_count": 31,
     "metadata": {},
     "output_type": "execute_result"
    },
    {
     "data": {
      "image/png": "[encoded data removed]",
      "text/plain": [
       "<Figure size 432x288 with 1 Axes>"
      ]
     },
     "metadata": {
      "needs_background": "light"
     },
     "output_type": "display_data"
    }
   ],
   "source": []
  },
  {
   "cell_type": "markdown",
   "id": "60bff923",
   "metadata": {},
   "source": [
    "# 15. Plot Bar Chart Countries with Most Content Top 10 Countries"
   ]
  },
  {
   "cell_type": "code",
   "execution_count": 32,
   "id": "047bda9c",
   "metadata": {},
   "outputs": [],
   "source": []
  },
  {
   "cell_type": "code",
   "execution_count": 33,
   "id": "201c55ac",
   "metadata": {},
   "outputs": [
    {
     "data": {
      "image/png": "[encoded data removed]",
      "text/plain": [
       "<Figure size 432x288 with 1 Axes>"
      ]
     },
     "metadata": {
      "needs_background": "light"
     },
     "output_type": "display_data"
    }
   ],
   "source": []
  },
  {
   "cell_type": "markdown",
   "id": "7cb502ac",
   "metadata": {},
   "source": [
    "# 16. Get Top 10 Movie Directors in United States"
   ]
  },
  {
   "cell_type": "code",
   "execution_count": 34,
   "id": "11766749",
   "metadata": {},
   "outputs": [],
   "source": []
  },
  {
   "cell_type": "code",
   "execution_count": 36,
   "id": "be129313",
   "metadata": {},
   "outputs": [
    {
     "data": {
      "text/plain": [
       "director\n",
       "Jay Karas           13\n",
       "Jay Chapman         12\n",
       "Marcus Raboy        12\n",
       "Martin Scorsese      8\n",
       "Steven Spielberg     8\n",
       "Name: title, dtype: int64"
      ]
     },
     "execution_count": 36,
     "metadata": {},
     "output_type": "execute_result"
    }
   ],
   "source": []
  }
 ],
 "metadata": {
  "kernelspec": {
   "display_name": "Python 3 (ipykernel)",
   "language": "python",
   "name": "python3"
  },
  "language_info": {
   "codemirror_mode": {
    "name": "ipython",
    "version": 3
   },
   "file_extension": ".py",
   "mimetype": "text/x-python",
   "name": "python",
   "nbconvert_exporter": "python",
   "pygments_lexer": "ipython3",
   "version": "3.9.7"
  }
 },
 "nbformat": 4,
 "nbformat_minor": 5
}
