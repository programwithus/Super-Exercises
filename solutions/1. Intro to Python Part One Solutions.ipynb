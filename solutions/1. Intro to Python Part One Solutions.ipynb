{
 "cells": [
  {
   "cell_type": "markdown",
   "id": "d5898abd",
   "metadata": {},
   "source": [
    "# Intro to Python Part One Solutions"
   ]
  },
  {
   "cell_type": "markdown",
   "id": "7e052fdd",
   "metadata": {},
   "source": [
    "Exercise Goals & Objectives:\n",
    "- Learn and prctice Python Built-in Data Types\n",
    "- Practice functions print() int() float() input()\n",
    "- Practice logical statements if elif else"
   ]
  },
  {
   "cell_type": "markdown",
   "id": "cecb086d",
   "metadata": {},
   "source": [
    "# Exercise 1."
   ]
  },
  {
   "cell_type": "markdown",
   "id": "ad05b051",
   "metadata": {},
   "source": [
    "1. Create a program that displays your name and complete mailing address formatted in the manner that you would usually see it on the outside of an envelope."
   ]
  },
  {
   "cell_type": "code",
   "execution_count": 1,
   "id": "6f048ebb",
   "metadata": {},
   "outputs": [
    {
     "name": "stdout",
     "output_type": "stream",
     "text": [
      "John Stephenson\n",
      "115 W 30th St.\n",
      "New York NY 10001\n"
     ]
    }
   ],
   "source": [
    "first_name = \"John\"\n",
    "last_name = \"Stephenson\"\n",
    "address = \"115 W 30th St.\"\n",
    "city = \"New York\"\n",
    "state = \"NY\"\n",
    "zipcode = 10001\n",
    "print(first_name, last_name)\n",
    "print(address)\n",
    "print(city, state, zipcode)"
   ]
  },
  {
   "cell_type": "markdown",
   "id": "d1389a62",
   "metadata": {},
   "source": [
    "# Exercise 2."
   ]
  },
  {
   "cell_type": "markdown",
   "id": "2da5656d",
   "metadata": {},
   "source": [
    "2. Write a program that asks the user to enter the width and length of a room. Once the values have been read, your program should compute and display the area of the room. The length and the width will be entered as floating point numbers. Include units in your prompt and output message; either feet or meters, depending on which\n",
    "unit you are more comfortable working with."
   ]
  },
  {
   "cell_type": "code",
   "execution_count": 3,
   "id": "546e00dc",
   "metadata": {},
   "outputs": [
    {
     "name": "stdout",
     "output_type": "stream",
     "text": [
      "Enter width of the room 5\n",
      "Enter lenght of the room 6\n",
      "The area of room is 30.0\n"
     ]
    }
   ],
   "source": [
    "width = input(\"Enter width of the room \")\n",
    "length = input(\"Enter lenght of the room \")\n",
    "width = float(width)\n",
    "length = float(length)\n",
    "area = width * length\n",
    "print(\"The area of room is\", area)"
   ]
  },
  {
   "cell_type": "markdown",
   "id": "d68239a0",
   "metadata": {},
   "source": [
    "# Exercise 3."
   ]
  },
  {
   "cell_type": "markdown",
   "id": "1958e5f9",
   "metadata": {},
   "source": [
    "```\n",
    "3.In many jurisdictions a small deposit is added to drink containers to encourage people to recycle them. In one particular jurisdiction, drink containers holding one liter or less have a $0.10 deposit, and drink containers holding more than one liter have a $0.25 deposit.\n",
    "\n",
    "Write a program that reads the number of containers of each size from the user.\n",
    "\n",
    "Your program should continue by computing and displaying the refund that will be received for returning those containers. Format the output so that it includes a dollar sign and always displays exactly two decimal places.\n",
    "```"
   ]
  },
  {
   "cell_type": "code",
   "execution_count": 20,
   "id": "ca677dac",
   "metadata": {},
   "outputs": [
    {
     "name": "stdout",
     "output_type": "stream",
     "text": [
      "How many 1 litre or less containers 2\n",
      "How many more than 1 litre containers 2\n",
      "Total is 0.7\n"
     ]
    }
   ],
   "source": [
    "small_deposit = 0.10\n",
    "large_deposit = 0.25\n",
    "\n",
    "small_containers = input(\"How many 1 litre or less containers \")\n",
    "large_containers = input(\"How many more than 1 litre containers \")\n",
    "small_containers = int(small_containers)\n",
    "large_containers = int(large_containers)\n",
    "total_refund = (small_deposit * small_containers) + (large_deposit * large_containers)\n",
    "print(\"Total is\", total_refund)"
   ]
  },
  {
   "cell_type": "markdown",
   "id": "e1599e49",
   "metadata": {},
   "source": [
    "# Exercise 4."
   ]
  },
  {
   "cell_type": "markdown",
   "id": "40f9673b",
   "metadata": {},
   "source": [
    "4. An online retailer sells two products: widgets and gizmos. Each widget weighs 75 grams. Each gizmo weighs 112 grams. Write a program that reads the number of widgets and the number of gizmos in an order from the user. Then your program\n",
    "should compute and display the total weight of the order.\n"
   ]
  },
  {
   "cell_type": "code",
   "execution_count": 7,
   "id": "f1fb72f3",
   "metadata": {},
   "outputs": [
    {
     "name": "stdout",
     "output_type": "stream",
     "text": [
      "How many widgets 2\n",
      "How many gizmos 2\n"
     ]
    },
    {
     "data": {
      "text/plain": [
       "374"
      ]
     },
     "execution_count": 7,
     "metadata": {},
     "output_type": "execute_result"
    }
   ],
   "source": [
    "widget_weight = 75\n",
    "gizmo_weight = 112\n",
    "amt_widget = input(\"How many widgets \")\n",
    "amt_gizmo = input(\"How many gizmos \")\n",
    "amt_widget = int(amt_widget)\n",
    "amt_gizmo = int(amt_gizmo)\n",
    "total_weight = (widget_weight * amt_widget) + (gizmo_weight * amt_gizmo)\n",
    "total_weight"
   ]
  },
  {
   "cell_type": "markdown",
   "id": "99f452f8",
   "metadata": {},
   "source": [
    "# Exercise 5."
   ]
  },
  {
   "cell_type": "markdown",
   "id": "1ae51bd9",
   "metadata": {},
   "source": [
    "5. Pretend that you have just opened a new savings account that earns 4 percent interest per year. The interest that you earn is paid at the end of the year, and is added to the balance of the savings account. Write a program that begins by reading the amount of money deposited into the account from the user. Then your program should compute and display the amount in the savings account after 1, 2, and 3 years. Display\n",
    "each amount so that it is rounded to 2 decimal places.\n"
   ]
  },
  {
   "cell_type": "code",
   "execution_count": 5,
   "id": "b467a14a",
   "metadata": {},
   "outputs": [
    {
     "name": "stdout",
     "output_type": "stream",
     "text": [
      "Compound interest in one year is 1248.0\n",
      "Compound interest in two years is 1297.92\n",
      "Compound interest in three years is 1349.84\n"
     ]
    }
   ],
   "source": [
    "principle = 1200\n",
    "rate = 4\n",
    "# Calculates compound interest  \n",
    "ci_one = principle * (pow((1 + rate / 100), 1)) \n",
    "ci_two = principle * (pow((1 + rate / 100), 2)) \n",
    "ci_three = principle * (pow((1 + rate / 100), 3)) \n",
    "print(\"Compound interest in one year is\", round(ci_one, 2) )\n",
    "print(\"Compound interest in two years is\", round(ci_two, 2) )\n",
    "print(\"Compound interest in three years is\", round(ci_three, 2) )"
   ]
  },
  {
   "cell_type": "markdown",
   "id": "8bbc4e31",
   "metadata": {},
   "source": [
    "# Exercise 6."
   ]
  },
  {
   "cell_type": "markdown",
   "id": "e7c5cc46",
   "metadata": {},
   "source": [
    "```\n",
    "6. Our address is \n",
    "\n",
    "address = \"115 W 30th St., 5th Floor, Suite 501, New York, NY, 12345\"\n",
    "slice out of the string:\n",
    "\n",
    "zip code\n",
    "city\n",
    "Suite number\n",
    "reverse the whole string\n",
    "```"
   ]
  },
  {
   "cell_type": "code",
   "execution_count": 14,
   "id": "9286791f",
   "metadata": {},
   "outputs": [],
   "source": [
    "address = \"115 W 30th St., 5th Floor, Suite 501, New York, NY, 12345\""
   ]
  },
  {
   "cell_type": "code",
   "execution_count": 15,
   "id": "b8bdeda0",
   "metadata": {
    "scrolled": true
   },
   "outputs": [
    {
     "data": {
      "text/plain": [
       "'12345'"
      ]
     },
     "execution_count": 15,
     "metadata": {},
     "output_type": "execute_result"
    }
   ],
   "source": [
    "zip_code = address[-5:]\n",
    "zip_code"
   ]
  },
  {
   "cell_type": "code",
   "execution_count": 16,
   "id": "3ece7d01",
   "metadata": {},
   "outputs": [
    {
     "data": {
      "text/plain": [
       "'New York'"
      ]
     },
     "execution_count": 16,
     "metadata": {},
     "output_type": "execute_result"
    }
   ],
   "source": [
    "city = address[38:46]\n",
    "city"
   ]
  },
  {
   "cell_type": "code",
   "execution_count": 17,
   "id": "1cd54cdc",
   "metadata": {},
   "outputs": [
    {
     "data": {
      "text/plain": [
       "'501'"
      ]
     },
     "execution_count": 17,
     "metadata": {},
     "output_type": "execute_result"
    }
   ],
   "source": [
    "suite_number = address[33:36]\n",
    "suite_number"
   ]
  },
  {
   "cell_type": "code",
   "execution_count": 18,
   "id": "a6d5f557",
   "metadata": {},
   "outputs": [
    {
     "data": {
      "text/plain": [
       "'54321 ,YN ,kroY weN ,105 etiuS ,roolF ht5 ,.tS ht03 W 511'"
      ]
     },
     "execution_count": 18,
     "metadata": {},
     "output_type": "execute_result"
    }
   ],
   "source": [
    "address[::-1]"
   ]
  },
  {
   "cell_type": "markdown",
   "id": "b8b9c499",
   "metadata": {},
   "source": [
    "# Exercise 7."
   ]
  },
  {
   "cell_type": "markdown",
   "id": "9103ee84",
   "metadata": {},
   "source": [
    "```\n",
    "7. Create a Temperature converter, Celsius to Fahrenheit:\n",
    "0 degrees Celsius is equal to 32 degrees Fahrenheit:\n",
    "0 °C = 32 °F\n",
    "The temperature T in degrees Fahrenheit (°F) is equal to the temperature T in degrees Celsius (°C) times 9/5 plus 32:\n",
    "T(°F) = T(°C) × 9/5 + 32\n",
    "\n",
    "Example:\n",
    "Convert 20 degrees Celsius to degrees Fahrenheit:\n",
    "T(°F) = 20°C × 9/5 + 32 = 68 °F\n",
    "```"
   ]
  },
  {
   "cell_type": "code",
   "execution_count": 19,
   "id": "ae150a6a",
   "metadata": {},
   "outputs": [
    {
     "name": "stdout",
     "output_type": "stream",
     "text": [
      "Enter a temperature in Celsius: 30\n",
      "Temperature: 30.0 Celsius =  86.0  F\n"
     ]
    }
   ],
   "source": [
    "celsius = float(input(\"Enter a temperature in Celsius: \"))\n",
    "\n",
    "fahrenheit = 9.0/5.0 * celsius + 32\n",
    "\n",
    "print(\"Temperature:\", celsius, \"Celsius = \", fahrenheit, \" F\")"
   ]
  },
  {
   "cell_type": "markdown",
   "id": "aa299087",
   "metadata": {},
   "source": [
    "# Exercise 8."
   ]
  },
  {
   "cell_type": "markdown",
   "id": "c817f320",
   "metadata": {},
   "source": [
    "8. Write a program that reads an integer from the user. Then your program should display a message indicating whether the integer is even or odd."
   ]
  },
  {
   "cell_type": "code",
   "execution_count": 22,
   "id": "320737ab",
   "metadata": {},
   "outputs": [
    {
     "name": "stdout",
     "output_type": "stream",
     "text": [
      "Give me a number 8\n",
      "8 is Even\n"
     ]
    }
   ],
   "source": [
    "number = input(\"Give me a number \")\n",
    "number = int(number)\n",
    "\n",
    "if number % 2 == 0:\n",
    "    print(number, \"is Even\")\n",
    "else:\n",
    "    print(number, \"is Odd\")"
   ]
  },
  {
   "cell_type": "markdown",
   "id": "088144db",
   "metadata": {},
   "source": [
    "# Exercise 9."
   ]
  },
  {
   "cell_type": "markdown",
   "id": "cae4594f",
   "metadata": {},
   "source": [
    "```\n",
    "Most years have 365 days. However, the time required for the Earth to orbit the Sun is actually slightly more than that. As a result, an extra day, February 29, is included in some years to correct for this difference. Such years are referred to as leap years.\n",
    "The rules for determining whether or not a year is a leap year follow:\n",
    "```\n",
    "```\n",
    "• Any year that is divisible by 400 is a leap year.\n",
    "• Of the remaining years, any year that is divisible by 100 is not a leap year. • Of the remaining years, any year that is divisible by 4 is a leap year.\n",
    "• All other years are not leap years.\n",
    "```\n",
    "```\n",
    "Write a program that reads a year from the user and displays a message indicating whether or not it is a leap year.\n",
    "```"
   ]
  },
  {
   "cell_type": "code",
   "execution_count": 23,
   "id": "4b4b7991",
   "metadata": {},
   "outputs": [
    {
     "name": "stdout",
     "output_type": "stream",
     "text": [
      "Enter a year: 2021\n",
      "2021 is not a leap year\n"
     ]
    }
   ],
   "source": [
    "year = input(\"Enter a year: \")\n",
    "year = int(year)\n",
    "\n",
    "if year % 400 == 0:\n",
    "    is_leap_year = True\n",
    "elif year % 100 == 0:\n",
    "    is_leap_year = False\n",
    "elif year % 4 == 0:\n",
    "    is_leap_year = True\n",
    "else:\n",
    "    is_leap_year = False \n",
    "    \n",
    "if is_leap_year:\n",
    "    print(year, \"is a leap year\")\n",
    "else:\n",
    "    print(year, \"is not a leap year\")"
   ]
  },
  {
   "cell_type": "markdown",
   "id": "233bf305",
   "metadata": {},
   "source": [
    "# Exercise 10."
   ]
  },
  {
   "cell_type": "markdown",
   "id": "7b0cbe94",
   "metadata": {},
   "source": [
    "10. In this exercise you will create a program that reads a letter of the alphabet from the user. If the user enters a, e, i, o or u then your program should display a message indicating that the entered letter is a vowel. If the user enters y then your program should display a message indicating that sometimes y is a vowel, and sometimes y is a consonant. Otherwise your program should display a message indicating that the letter is a consonant."
   ]
  },
  {
   "cell_type": "code",
   "execution_count": 9,
   "id": "b9d998da",
   "metadata": {},
   "outputs": [
    {
     "name": "stdout",
     "output_type": "stream",
     "text": [
      "Give me a letter a\n",
      "This letter is a vowel\n"
     ]
    }
   ],
   "source": [
    "letter = input(\"Give me a letter \")\n",
    "if letter == \"a\" or letter == \"o\" or letter == \"u\" or letter == \"i\" or letter == \"e\":\n",
    "    print(\"This letter is a vowel\")\n",
    "elif letter == \"y\":\n",
    "    print(\"sometimes y is a vowel, and sometimes y is a consonant\")\n",
    "else:\n",
    "    print(\"this is a consonant\")"
   ]
  },
  {
   "cell_type": "markdown",
   "id": "72161bd9",
   "metadata": {},
   "source": [
    "Another solution using a list data structure"
   ]
  },
  {
   "cell_type": "code",
   "execution_count": 11,
   "id": "b6f868e2",
   "metadata": {},
   "outputs": [
    {
     "name": "stdout",
     "output_type": "stream",
     "text": [
      "Give me a letter a\n",
      "This letter is a vowel\n"
     ]
    }
   ],
   "source": [
    "letter = input(\"Give me a letter \")\n",
    "if letter in [\"a\", \"o\", \"u\", \"i\", \"e\"]:\n",
    "    print(\"This letter is a vowel\")\n",
    "elif letter == \"y\":\n",
    "    print(\"sometimes y is a vowel, and sometimes y is a consonant\")\n",
    "else:\n",
    "    print(\"this is a consonant\")"
   ]
  },
  {
   "cell_type": "code",
   "execution_count": null,
   "id": "27032a71",
   "metadata": {},
   "outputs": [],
   "source": []
  }
 ],
 "metadata": {
  "kernelspec": {
   "display_name": "Python 3 (ipykernel)",
   "language": "python",
   "name": "python3"
  },
  "language_info": {
   "codemirror_mode": {
    "name": "ipython",
    "version": 3
   },
   "file_extension": ".py",
   "mimetype": "text/x-python",
   "name": "python",
   "nbconvert_exporter": "python",
   "pygments_lexer": "ipython3",
   "version": "3.9.7"
  }
 },
 "nbformat": 4,
 "nbformat_minor": 5
}
