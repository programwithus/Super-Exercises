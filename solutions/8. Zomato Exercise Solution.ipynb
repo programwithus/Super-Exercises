{
 "cells": [
  {
   "cell_type": "markdown",
   "id": "7e58b86c",
   "metadata": {},
   "source": [
    "# Zomato Exercise Solution"
   ]
  },
  {
   "cell_type": "markdown",
   "id": "d301e2d6",
   "metadata": {},
   "source": [
    "In this exercise we will analize the data set form very popular restaurant agrigator Zomato https://www.zomato.com"
   ]
  },
  {
   "cell_type": "markdown",
   "id": "5e5f0114",
   "metadata": {},
   "source": [
    "Exercise Goals & Objectives:\n",
    "- Learn and prctice Pandas\n",
    "- Practice filtering DataFrame\n",
    "- Practice Matplotlib"
   ]
  },
  {
   "cell_type": "markdown",
   "id": "4a092ff3",
   "metadata": {},
   "source": [
    "Data Set:\n",
    "- Using Pandas pd.read_csv() function read **zomato.csv** file, saved in the datasets folder"
   ]
  },
  {
   "cell_type": "markdown",
   "id": "2924a289",
   "metadata": {},
   "source": [
    "# 1. Import all necessary libriaries"
   ]
  },
  {
   "cell_type": "code",
   "execution_count": 66,
   "id": "0658553d",
   "metadata": {},
   "outputs": [],
   "source": [
    "import pandas as pd\n",
    "import matplotlib.pyplot as plt"
   ]
  },
  {
   "cell_type": "markdown",
   "id": "7e21443f",
   "metadata": {},
   "source": [
    "# 2. Read the file in DataFrame format"
   ]
  },
  {
   "cell_type": "markdown",
   "id": "0aa866a5",
   "metadata": {},
   "source": [
    "If pd.read_csv() gives you encoding error use keyword argument in the function encoding=\"Latin1\", also Windows might require liitle r letter before the file path\n",
    "```\n",
    "example:\n",
    "pd.read_csv(r\"file/path\")\n",
    "```"
   ]
  },
  {
   "cell_type": "code",
   "execution_count": 2,
   "id": "fe9c93b8",
   "metadata": {},
   "outputs": [],
   "source": [
    "df = pd.read_csv(\"/Users/art/Arts_Python_Tutorial/zomato.csv\", encoding=\"Latin1\")"
   ]
  },
  {
   "cell_type": "markdown",
   "id": "d420684f",
   "metadata": {},
   "source": [
    "# 3. Use function head() to see the first 5 rows"
   ]
  },
  {
   "cell_type": "code",
   "execution_count": 3,
   "id": "2c025ad1",
   "metadata": {},
   "outputs": [
    {
     "data": {
      "text/html": [
       "<div>\n",
       "<style scoped>\n",
       "    .dataframe tbody tr th:only-of-type {\n",
       "        vertical-align: middle;\n",
       "    }\n",
       "\n",
       "    .dataframe tbody tr th {\n",
       "        vertical-align: top;\n",
       "    }\n",
       "\n",
       "    .dataframe thead th {\n",
       "        text-align: right;\n",
       "    }\n",
       "</style>\n",
       "<table border=\"1\" class=\"dataframe\">\n",
       "  <thead>\n",
       "    <tr style=\"text-align: right;\">\n",
       "      <th></th>\n",
       "      <th>Restaurant ID</th>\n",
       "      <th>Restaurant Name</th>\n",
       "      <th>Country Code</th>\n",
       "      <th>City</th>\n",
       "      <th>Address</th>\n",
       "      <th>Locality</th>\n",
       "      <th>Locality Verbose</th>\n",
       "      <th>Longitude</th>\n",
       "      <th>Latitude</th>\n",
       "      <th>Cuisines</th>\n",
       "      <th>...</th>\n",
       "      <th>Currency</th>\n",
       "      <th>Has Table booking</th>\n",
       "      <th>Has Online delivery</th>\n",
       "      <th>Is delivering now</th>\n",
       "      <th>Switch to order menu</th>\n",
       "      <th>Price range</th>\n",
       "      <th>Aggregate rating</th>\n",
       "      <th>Rating color</th>\n",
       "      <th>Rating text</th>\n",
       "      <th>Votes</th>\n",
       "    </tr>\n",
       "  </thead>\n",
       "  <tbody>\n",
       "    <tr>\n",
       "      <th>0</th>\n",
       "      <td>6317637</td>\n",
       "      <td>Le Petit Souffle</td>\n",
       "      <td>162</td>\n",
       "      <td>Makati City</td>\n",
       "      <td>Third Floor, Century City Mall, Kalayaan Avenu...</td>\n",
       "      <td>Century City Mall, Poblacion, Makati City</td>\n",
       "      <td>Century City Mall, Poblacion, Makati City, Mak...</td>\n",
       "      <td>121.027535</td>\n",
       "      <td>14.565443</td>\n",
       "      <td>French, Japanese, Desserts</td>\n",
       "      <td>...</td>\n",
       "      <td>Botswana Pula(P)</td>\n",
       "      <td>Yes</td>\n",
       "      <td>No</td>\n",
       "      <td>No</td>\n",
       "      <td>No</td>\n",
       "      <td>3</td>\n",
       "      <td>4.8</td>\n",
       "      <td>Dark Green</td>\n",
       "      <td>Excellent</td>\n",
       "      <td>314</td>\n",
       "    </tr>\n",
       "    <tr>\n",
       "      <th>1</th>\n",
       "      <td>6304287</td>\n",
       "      <td>Izakaya Kikufuji</td>\n",
       "      <td>162</td>\n",
       "      <td>Makati City</td>\n",
       "      <td>Little Tokyo, 2277 Chino Roces Avenue, Legaspi...</td>\n",
       "      <td>Little Tokyo, Legaspi Village, Makati City</td>\n",
       "      <td>Little Tokyo, Legaspi Village, Makati City, Ma...</td>\n",
       "      <td>121.014101</td>\n",
       "      <td>14.553708</td>\n",
       "      <td>Japanese</td>\n",
       "      <td>...</td>\n",
       "      <td>Botswana Pula(P)</td>\n",
       "      <td>Yes</td>\n",
       "      <td>No</td>\n",
       "      <td>No</td>\n",
       "      <td>No</td>\n",
       "      <td>3</td>\n",
       "      <td>4.5</td>\n",
       "      <td>Dark Green</td>\n",
       "      <td>Excellent</td>\n",
       "      <td>591</td>\n",
       "    </tr>\n",
       "    <tr>\n",
       "      <th>2</th>\n",
       "      <td>6300002</td>\n",
       "      <td>Heat - Edsa Shangri-La</td>\n",
       "      <td>162</td>\n",
       "      <td>Mandaluyong City</td>\n",
       "      <td>Edsa Shangri-La, 1 Garden Way, Ortigas, Mandal...</td>\n",
       "      <td>Edsa Shangri-La, Ortigas, Mandaluyong City</td>\n",
       "      <td>Edsa Shangri-La, Ortigas, Mandaluyong City, Ma...</td>\n",
       "      <td>121.056831</td>\n",
       "      <td>14.581404</td>\n",
       "      <td>Seafood, Asian, Filipino, Indian</td>\n",
       "      <td>...</td>\n",
       "      <td>Botswana Pula(P)</td>\n",
       "      <td>Yes</td>\n",
       "      <td>No</td>\n",
       "      <td>No</td>\n",
       "      <td>No</td>\n",
       "      <td>4</td>\n",
       "      <td>4.4</td>\n",
       "      <td>Green</td>\n",
       "      <td>Very Good</td>\n",
       "      <td>270</td>\n",
       "    </tr>\n",
       "    <tr>\n",
       "      <th>3</th>\n",
       "      <td>6318506</td>\n",
       "      <td>Ooma</td>\n",
       "      <td>162</td>\n",
       "      <td>Mandaluyong City</td>\n",
       "      <td>Third Floor, Mega Fashion Hall, SM Megamall, O...</td>\n",
       "      <td>SM Megamall, Ortigas, Mandaluyong City</td>\n",
       "      <td>SM Megamall, Ortigas, Mandaluyong City, Mandal...</td>\n",
       "      <td>121.056475</td>\n",
       "      <td>14.585318</td>\n",
       "      <td>Japanese, Sushi</td>\n",
       "      <td>...</td>\n",
       "      <td>Botswana Pula(P)</td>\n",
       "      <td>No</td>\n",
       "      <td>No</td>\n",
       "      <td>No</td>\n",
       "      <td>No</td>\n",
       "      <td>4</td>\n",
       "      <td>4.9</td>\n",
       "      <td>Dark Green</td>\n",
       "      <td>Excellent</td>\n",
       "      <td>365</td>\n",
       "    </tr>\n",
       "    <tr>\n",
       "      <th>4</th>\n",
       "      <td>6314302</td>\n",
       "      <td>Sambo Kojin</td>\n",
       "      <td>162</td>\n",
       "      <td>Mandaluyong City</td>\n",
       "      <td>Third Floor, Mega Atrium, SM Megamall, Ortigas...</td>\n",
       "      <td>SM Megamall, Ortigas, Mandaluyong City</td>\n",
       "      <td>SM Megamall, Ortigas, Mandaluyong City, Mandal...</td>\n",
       "      <td>121.057508</td>\n",
       "      <td>14.584450</td>\n",
       "      <td>Japanese, Korean</td>\n",
       "      <td>...</td>\n",
       "      <td>Botswana Pula(P)</td>\n",
       "      <td>Yes</td>\n",
       "      <td>No</td>\n",
       "      <td>No</td>\n",
       "      <td>No</td>\n",
       "      <td>4</td>\n",
       "      <td>4.8</td>\n",
       "      <td>Dark Green</td>\n",
       "      <td>Excellent</td>\n",
       "      <td>229</td>\n",
       "    </tr>\n",
       "  </tbody>\n",
       "</table>\n",
       "<p>5 rows × 21 columns</p>\n",
       "</div>"
      ],
      "text/plain": [
       "   Restaurant ID         Restaurant Name  Country Code              City  \\\n",
       "0        6317637        Le Petit Souffle           162       Makati City   \n",
       "1        6304287        Izakaya Kikufuji           162       Makati City   \n",
       "2        6300002  Heat - Edsa Shangri-La           162  Mandaluyong City   \n",
       "3        6318506                    Ooma           162  Mandaluyong City   \n",
       "4        6314302             Sambo Kojin           162  Mandaluyong City   \n",
       "\n",
       "                                             Address  \\\n",
       "0  Third Floor, Century City Mall, Kalayaan Avenu...   \n",
       "1  Little Tokyo, 2277 Chino Roces Avenue, Legaspi...   \n",
       "2  Edsa Shangri-La, 1 Garden Way, Ortigas, Mandal...   \n",
       "3  Third Floor, Mega Fashion Hall, SM Megamall, O...   \n",
       "4  Third Floor, Mega Atrium, SM Megamall, Ortigas...   \n",
       "\n",
       "                                     Locality  \\\n",
       "0   Century City Mall, Poblacion, Makati City   \n",
       "1  Little Tokyo, Legaspi Village, Makati City   \n",
       "2  Edsa Shangri-La, Ortigas, Mandaluyong City   \n",
       "3      SM Megamall, Ortigas, Mandaluyong City   \n",
       "4      SM Megamall, Ortigas, Mandaluyong City   \n",
       "\n",
       "                                    Locality Verbose   Longitude   Latitude  \\\n",
       "0  Century City Mall, Poblacion, Makati City, Mak...  121.027535  14.565443   \n",
       "1  Little Tokyo, Legaspi Village, Makati City, Ma...  121.014101  14.553708   \n",
       "2  Edsa Shangri-La, Ortigas, Mandaluyong City, Ma...  121.056831  14.581404   \n",
       "3  SM Megamall, Ortigas, Mandaluyong City, Mandal...  121.056475  14.585318   \n",
       "4  SM Megamall, Ortigas, Mandaluyong City, Mandal...  121.057508  14.584450   \n",
       "\n",
       "                           Cuisines  ...          Currency Has Table booking  \\\n",
       "0        French, Japanese, Desserts  ...  Botswana Pula(P)               Yes   \n",
       "1                          Japanese  ...  Botswana Pula(P)               Yes   \n",
       "2  Seafood, Asian, Filipino, Indian  ...  Botswana Pula(P)               Yes   \n",
       "3                   Japanese, Sushi  ...  Botswana Pula(P)                No   \n",
       "4                  Japanese, Korean  ...  Botswana Pula(P)               Yes   \n",
       "\n",
       "  Has Online delivery Is delivering now Switch to order menu Price range  \\\n",
       "0                  No                No                   No           3   \n",
       "1                  No                No                   No           3   \n",
       "2                  No                No                   No           4   \n",
       "3                  No                No                   No           4   \n",
       "4                  No                No                   No           4   \n",
       "\n",
       "   Aggregate rating  Rating color Rating text Votes  \n",
       "0               4.8    Dark Green   Excellent   314  \n",
       "1               4.5    Dark Green   Excellent   591  \n",
       "2               4.4         Green   Very Good   270  \n",
       "3               4.9    Dark Green   Excellent   365  \n",
       "4               4.8    Dark Green   Excellent   229  \n",
       "\n",
       "[5 rows x 21 columns]"
      ]
     },
     "execution_count": 3,
     "metadata": {},
     "output_type": "execute_result"
    }
   ],
   "source": [
    "df.head()"
   ]
  },
  {
   "cell_type": "markdown",
   "id": "a8280bdb",
   "metadata": {},
   "source": [
    "# 4. How many restaurants have the highest Aggregate rating?"
   ]
  },
  {
   "cell_type": "code",
   "execution_count": 8,
   "id": "bd991b93",
   "metadata": {},
   "outputs": [
    {
     "name": "stdout",
     "output_type": "stream",
     "text": [
      "4.9\n"
     ]
    },
    {
     "data": {
      "text/plain": [
       "61"
      ]
     },
     "execution_count": 8,
     "metadata": {},
     "output_type": "execute_result"
    }
   ],
   "source": [
    "max_rating = df[\"Aggregate rating\"].max()\n",
    "print(max_rating)\n",
    "df[\"Restaurant Name\"][df[\"Aggregate rating\"]==max_rating].count()"
   ]
  },
  {
   "cell_type": "markdown",
   "id": "af111fad",
   "metadata": {},
   "source": [
    "# 5. What % of all restaurants have the highest rating?"
   ]
  },
  {
   "cell_type": "code",
   "execution_count": 15,
   "id": "55fd35b7",
   "metadata": {},
   "outputs": [
    {
     "data": {
      "text/plain": [
       "0.6"
      ]
     },
     "execution_count": 15,
     "metadata": {},
     "output_type": "execute_result"
    }
   ],
   "source": [
    "total_res = df[\"Restaurant Name\"].count()\n",
    "best_res = df[\"Restaurant Name\"][df[\"Aggregate rating\"]==max_rating].count()\n",
    "percent_of_best = round(best_res/total_res, 3)*100\n",
    "percent_of_best"
   ]
  },
  {
   "cell_type": "markdown",
   "id": "2c89a142",
   "metadata": {},
   "source": [
    "# 6. How many restaurants are in Abu Dhabi?"
   ]
  },
  {
   "cell_type": "code",
   "execution_count": 19,
   "id": "812122c5",
   "metadata": {},
   "outputs": [
    {
     "data": {
      "text/plain": [
       "20"
      ]
     },
     "execution_count": 19,
     "metadata": {},
     "output_type": "execute_result"
    }
   ],
   "source": [
    "df[\"Restaurant Name\"][df[\"City\"]==\"Abu Dhabi\"].count()"
   ]
  },
  {
   "cell_type": "code",
   "execution_count": 23,
   "id": "70213f64",
   "metadata": {},
   "outputs": [
    {
     "data": {
      "text/plain": [
       "'55    Avenida Ataulfo de Paiva, 1022, Lojas A e B, L...'"
      ]
     },
     "execution_count": 23,
     "metadata": {},
     "output_type": "execute_result"
    }
   ],
   "source": [
    "df[\"Address\"].iloc[55:56].to_string()"
   ]
  },
  {
   "cell_type": "markdown",
   "id": "4b0c5f3e",
   "metadata": {},
   "source": [
    "# 7. How many restaurants in the state of WA (use column Address) ?"
   ]
  },
  {
   "cell_type": "code",
   "execution_count": 27,
   "id": "16a2e46a",
   "metadata": {},
   "outputs": [
    {
     "data": {
      "text/plain": [
       "18"
      ]
     },
     "execution_count": 27,
     "metadata": {},
     "output_type": "execute_result"
    }
   ],
   "source": [
    "df[\"Restaurant Name\"][df[\"Address\"].str.contains(\"WA\")].count()"
   ]
  },
  {
   "cell_type": "markdown",
   "id": "162db471",
   "metadata": {},
   "source": [
    "# 8. Get the restauranst with the highest rating in New Delhi"
   ]
  },
  {
   "cell_type": "code",
   "execution_count": 35,
   "id": "6c4e331a",
   "metadata": {},
   "outputs": [
    {
     "data": {
      "text/html": [
       "<div>\n",
       "<style scoped>\n",
       "    .dataframe tbody tr th:only-of-type {\n",
       "        vertical-align: middle;\n",
       "    }\n",
       "\n",
       "    .dataframe tbody tr th {\n",
       "        vertical-align: top;\n",
       "    }\n",
       "\n",
       "    .dataframe thead th {\n",
       "        text-align: right;\n",
       "    }\n",
       "</style>\n",
       "<table border=\"1\" class=\"dataframe\">\n",
       "  <thead>\n",
       "    <tr style=\"text-align: right;\">\n",
       "      <th></th>\n",
       "      <th>Restaurant ID</th>\n",
       "      <th>Restaurant Name</th>\n",
       "      <th>Country Code</th>\n",
       "      <th>City</th>\n",
       "      <th>Address</th>\n",
       "      <th>Locality</th>\n",
       "      <th>Locality Verbose</th>\n",
       "      <th>Longitude</th>\n",
       "      <th>Latitude</th>\n",
       "      <th>Cuisines</th>\n",
       "      <th>...</th>\n",
       "      <th>Currency</th>\n",
       "      <th>Has Table booking</th>\n",
       "      <th>Has Online delivery</th>\n",
       "      <th>Is delivering now</th>\n",
       "      <th>Switch to order menu</th>\n",
       "      <th>Price range</th>\n",
       "      <th>Aggregate rating</th>\n",
       "      <th>Rating color</th>\n",
       "      <th>Rating text</th>\n",
       "      <th>Votes</th>\n",
       "    </tr>\n",
       "  </thead>\n",
       "  <tbody>\n",
       "    <tr>\n",
       "      <th>3013</th>\n",
       "      <td>310143</td>\n",
       "      <td>Naturals Ice Cream</td>\n",
       "      <td>1</td>\n",
       "      <td>New Delhi</td>\n",
       "      <td>L-8, Outer Circle, Connaught Place, New Delhi</td>\n",
       "      <td>Connaught Place</td>\n",
       "      <td>Connaught Place, New Delhi</td>\n",
       "      <td>77.222148</td>\n",
       "      <td>28.634348</td>\n",
       "      <td>Ice Cream</td>\n",
       "      <td>...</td>\n",
       "      <td>Indian Rupees(Rs.)</td>\n",
       "      <td>No</td>\n",
       "      <td>Yes</td>\n",
       "      <td>No</td>\n",
       "      <td>No</td>\n",
       "      <td>1</td>\n",
       "      <td>4.9</td>\n",
       "      <td>Dark Green</td>\n",
       "      <td>Excellent</td>\n",
       "      <td>2620</td>\n",
       "    </tr>\n",
       "    <tr>\n",
       "      <th>3601</th>\n",
       "      <td>2004</td>\n",
       "      <td>Indian Accent - The Manor</td>\n",
       "      <td>1</td>\n",
       "      <td>New Delhi</td>\n",
       "      <td>The Manor, 77, Friends Colony, New Delhi</td>\n",
       "      <td>Friends Colony</td>\n",
       "      <td>Friends Colony, New Delhi</td>\n",
       "      <td>77.257106</td>\n",
       "      <td>28.570142</td>\n",
       "      <td>Modern Indian</td>\n",
       "      <td>...</td>\n",
       "      <td>Indian Rupees(Rs.)</td>\n",
       "      <td>No</td>\n",
       "      <td>No</td>\n",
       "      <td>No</td>\n",
       "      <td>No</td>\n",
       "      <td>4</td>\n",
       "      <td>4.9</td>\n",
       "      <td>Dark Green</td>\n",
       "      <td>Excellent</td>\n",
       "      <td>1934</td>\n",
       "    </tr>\n",
       "    <tr>\n",
       "      <th>4298</th>\n",
       "      <td>18345728</td>\n",
       "      <td>Masala Library</td>\n",
       "      <td>1</td>\n",
       "      <td>New Delhi</td>\n",
       "      <td>21 A, Janpath, New Delhi</td>\n",
       "      <td>Janpath</td>\n",
       "      <td>Janpath, New Delhi</td>\n",
       "      <td>77.218645</td>\n",
       "      <td>28.618245</td>\n",
       "      <td>Modern Indian</td>\n",
       "      <td>...</td>\n",
       "      <td>Indian Rupees(Rs.)</td>\n",
       "      <td>No</td>\n",
       "      <td>No</td>\n",
       "      <td>No</td>\n",
       "      <td>No</td>\n",
       "      <td>4</td>\n",
       "      <td>4.9</td>\n",
       "      <td>Dark Green</td>\n",
       "      <td>Excellent</td>\n",
       "      <td>408</td>\n",
       "    </tr>\n",
       "  </tbody>\n",
       "</table>\n",
       "<p>3 rows × 21 columns</p>\n",
       "</div>"
      ],
      "text/plain": [
       "      Restaurant ID            Restaurant Name  Country Code       City  \\\n",
       "3013         310143         Naturals Ice Cream             1  New Delhi   \n",
       "3601           2004  Indian Accent - The Manor             1  New Delhi   \n",
       "4298       18345728             Masala Library             1  New Delhi   \n",
       "\n",
       "                                            Address         Locality  \\\n",
       "3013  L-8, Outer Circle, Connaught Place, New Delhi  Connaught Place   \n",
       "3601       The Manor, 77, Friends Colony, New Delhi   Friends Colony   \n",
       "4298                       21 A, Janpath, New Delhi          Janpath   \n",
       "\n",
       "                Locality Verbose  Longitude   Latitude       Cuisines  ...  \\\n",
       "3013  Connaught Place, New Delhi  77.222148  28.634348      Ice Cream  ...   \n",
       "3601   Friends Colony, New Delhi  77.257106  28.570142  Modern Indian  ...   \n",
       "4298          Janpath, New Delhi  77.218645  28.618245  Modern Indian  ...   \n",
       "\n",
       "                Currency Has Table booking Has Online delivery  \\\n",
       "3013  Indian Rupees(Rs.)                No                 Yes   \n",
       "3601  Indian Rupees(Rs.)                No                  No   \n",
       "4298  Indian Rupees(Rs.)                No                  No   \n",
       "\n",
       "     Is delivering now Switch to order menu Price range  Aggregate rating  \\\n",
       "3013                No                   No           1               4.9   \n",
       "3601                No                   No           4               4.9   \n",
       "4298                No                   No           4               4.9   \n",
       "\n",
       "      Rating color Rating text Votes  \n",
       "3013    Dark Green   Excellent  2620  \n",
       "3601    Dark Green   Excellent  1934  \n",
       "4298    Dark Green   Excellent   408  \n",
       "\n",
       "[3 rows x 21 columns]"
      ]
     },
     "execution_count": 35,
     "metadata": {},
     "output_type": "execute_result"
    }
   ],
   "source": [
    "new_delhi = df[df[\"City\"]==\"New Delhi\"]\n",
    "new_delhi_max_rating = new_delhi[\"Aggregate rating\"].max()\n",
    "new_delhi[new_delhi[\"Aggregate rating\"]==new_delhi_max_rating]"
   ]
  },
  {
   "cell_type": "markdown",
   "id": "74fce259",
   "metadata": {},
   "source": [
    "# 9. Which cousine is more popular Chinese of American?"
   ]
  },
  {
   "cell_type": "code",
   "execution_count": 45,
   "id": "7d67ded8",
   "metadata": {},
   "outputs": [
    {
     "data": {
      "text/plain": [
       "2733"
      ]
     },
     "execution_count": 45,
     "metadata": {},
     "output_type": "execute_result"
    }
   ],
   "source": [
    "no_nans = df.dropna()\n",
    "\n",
    "no_nans[\"Restaurant Name\"][no_nans[\"Cuisines\"].str.contains(\"Chinese\")].count()"
   ]
  },
  {
   "cell_type": "code",
   "execution_count": 46,
   "id": "f20121ea",
   "metadata": {},
   "outputs": [
    {
     "data": {
      "text/plain": [
       "405"
      ]
     },
     "execution_count": 46,
     "metadata": {},
     "output_type": "execute_result"
    }
   ],
   "source": [
    "no_nans[\"Restaurant Name\"][no_nans[\"Cuisines\"].str.contains(\"American\")].count()"
   ]
  },
  {
   "cell_type": "markdown",
   "id": "536f4a5c",
   "metadata": {},
   "source": [
    "# 10. What is the name and rating of the most expensive restaurant for two ('Average Cost for two')?"
   ]
  },
  {
   "cell_type": "code",
   "execution_count": 114,
   "id": "f27409fd",
   "metadata": {},
   "outputs": [
    {
     "data": {
      "text/html": [
       "<div>\n",
       "<style scoped>\n",
       "    .dataframe tbody tr th:only-of-type {\n",
       "        vertical-align: middle;\n",
       "    }\n",
       "\n",
       "    .dataframe tbody tr th {\n",
       "        vertical-align: top;\n",
       "    }\n",
       "\n",
       "    .dataframe thead th {\n",
       "        text-align: right;\n",
       "    }\n",
       "</style>\n",
       "<table border=\"1\" class=\"dataframe\">\n",
       "  <thead>\n",
       "    <tr style=\"text-align: right;\">\n",
       "      <th></th>\n",
       "      <th>Restaurant ID</th>\n",
       "      <th>Restaurant Name</th>\n",
       "      <th>Country Code</th>\n",
       "      <th>City</th>\n",
       "      <th>Address</th>\n",
       "      <th>Locality</th>\n",
       "      <th>Locality Verbose</th>\n",
       "      <th>Longitude</th>\n",
       "      <th>Latitude</th>\n",
       "      <th>Cuisines</th>\n",
       "      <th>...</th>\n",
       "      <th>Currency</th>\n",
       "      <th>Has Table booking</th>\n",
       "      <th>Has Online delivery</th>\n",
       "      <th>Is delivering now</th>\n",
       "      <th>Switch to order menu</th>\n",
       "      <th>Price range</th>\n",
       "      <th>Aggregate rating</th>\n",
       "      <th>Rating color</th>\n",
       "      <th>Rating text</th>\n",
       "      <th>Votes</th>\n",
       "    </tr>\n",
       "  </thead>\n",
       "  <tbody>\n",
       "    <tr>\n",
       "      <th>9283</th>\n",
       "      <td>7402935</td>\n",
       "      <td>Skye</td>\n",
       "      <td>94</td>\n",
       "      <td>Jakarta</td>\n",
       "      <td>Menara BCA, Lantai 56, Jl. MH. Thamrin, Thamri...</td>\n",
       "      <td>Grand Indonesia Mall, Thamrin</td>\n",
       "      <td>Grand Indonesia Mall, Thamrin, Jakarta</td>\n",
       "      <td>106.821999</td>\n",
       "      <td>-6.196778</td>\n",
       "      <td>Italian, Continental</td>\n",
       "      <td>...</td>\n",
       "      <td>Indonesian Rupiah(IDR)</td>\n",
       "      <td>No</td>\n",
       "      <td>No</td>\n",
       "      <td>No</td>\n",
       "      <td>No</td>\n",
       "      <td>3</td>\n",
       "      <td>4.1</td>\n",
       "      <td>Green</td>\n",
       "      <td>Very Good</td>\n",
       "      <td>1498</td>\n",
       "    </tr>\n",
       "    <tr>\n",
       "      <th>9284</th>\n",
       "      <td>7410290</td>\n",
       "      <td>Satoo - Hotel Shangri-La</td>\n",
       "      <td>94</td>\n",
       "      <td>Jakarta</td>\n",
       "      <td>Hotel Shangri-La, Jl. Jend. Sudirman</td>\n",
       "      <td>Hotel Shangri-La, Sudirman</td>\n",
       "      <td>Hotel Shangri-La, Sudirman, Jakarta</td>\n",
       "      <td>106.818961</td>\n",
       "      <td>-6.203292</td>\n",
       "      <td>Asian, Indonesian, Western</td>\n",
       "      <td>...</td>\n",
       "      <td>Indonesian Rupiah(IDR)</td>\n",
       "      <td>No</td>\n",
       "      <td>No</td>\n",
       "      <td>No</td>\n",
       "      <td>No</td>\n",
       "      <td>3</td>\n",
       "      <td>4.6</td>\n",
       "      <td>Dark Green</td>\n",
       "      <td>Excellent</td>\n",
       "      <td>873</td>\n",
       "    </tr>\n",
       "  </tbody>\n",
       "</table>\n",
       "<p>2 rows × 21 columns</p>\n",
       "</div>"
      ],
      "text/plain": [
       "      Restaurant ID           Restaurant Name  Country Code     City  \\\n",
       "9283        7402935                      Skye            94  Jakarta   \n",
       "9284        7410290  Satoo - Hotel Shangri-La            94  Jakarta   \n",
       "\n",
       "                                                Address  \\\n",
       "9283  Menara BCA, Lantai 56, Jl. MH. Thamrin, Thamri...   \n",
       "9284               Hotel Shangri-La, Jl. Jend. Sudirman   \n",
       "\n",
       "                           Locality                        Locality Verbose  \\\n",
       "9283  Grand Indonesia Mall, Thamrin  Grand Indonesia Mall, Thamrin, Jakarta   \n",
       "9284     Hotel Shangri-La, Sudirman     Hotel Shangri-La, Sudirman, Jakarta   \n",
       "\n",
       "       Longitude  Latitude                    Cuisines  ...  \\\n",
       "9283  106.821999 -6.196778        Italian, Continental  ...   \n",
       "9284  106.818961 -6.203292  Asian, Indonesian, Western  ...   \n",
       "\n",
       "                    Currency Has Table booking Has Online delivery  \\\n",
       "9283  Indonesian Rupiah(IDR)                No                  No   \n",
       "9284  Indonesian Rupiah(IDR)                No                  No   \n",
       "\n",
       "     Is delivering now Switch to order menu Price range  Aggregate rating  \\\n",
       "9283                No                   No           3               4.1   \n",
       "9284                No                   No           3               4.6   \n",
       "\n",
       "      Rating color Rating text Votes  \n",
       "9283         Green   Very Good  1498  \n",
       "9284    Dark Green   Excellent   873  \n",
       "\n",
       "[2 rows x 21 columns]"
      ]
     },
     "execution_count": 114,
     "metadata": {},
     "output_type": "execute_result"
    }
   ],
   "source": [
    "df[df[\"Average Cost for two\"]==df[\"Average Cost for two\"].max()]"
   ]
  },
  {
   "cell_type": "markdown",
   "id": "6ebd9eaf",
   "metadata": {},
   "source": [
    "# 11. Find the most expensive Chinese restaurant in New Delhi in US Dollars 1 Indian Rupee is 0.013 United States Dollar"
   ]
  },
  {
   "cell_type": "code",
   "execution_count": 49,
   "id": "014715a5",
   "metadata": {},
   "outputs": [],
   "source": [
    "new_delhi = df[df[\"City\"]==\"New Delhi\"].copy()\n",
    "new_delhi[\"Price_in_US\"] = new_delhi[\"Average Cost for two\"]*0.013"
   ]
  },
  {
   "cell_type": "code",
   "execution_count": 51,
   "id": "75bdc68f",
   "metadata": {},
   "outputs": [],
   "source": [
    "chinese_res_new_delhi = new_delhi[new_delhi[\"Cuisines\"].str.contains(\"Chinese\")]"
   ]
  },
  {
   "cell_type": "code",
   "execution_count": 54,
   "id": "ab263f36",
   "metadata": {},
   "outputs": [
    {
     "data": {
      "text/plain": [
       "91.0"
      ]
     },
     "execution_count": 54,
     "metadata": {},
     "output_type": "execute_result"
    }
   ],
   "source": [
    "max_price_chinese_new_delhi = chinese_res_new_delhi[\"Price_in_US\"].max()\n",
    "max_price_chinese_new_delhi"
   ]
  },
  {
   "cell_type": "code",
   "execution_count": 55,
   "id": "18d6d7dd",
   "metadata": {},
   "outputs": [
    {
     "data": {
      "text/html": [
       "<div>\n",
       "<style scoped>\n",
       "    .dataframe tbody tr th:only-of-type {\n",
       "        vertical-align: middle;\n",
       "    }\n",
       "\n",
       "    .dataframe tbody tr th {\n",
       "        vertical-align: top;\n",
       "    }\n",
       "\n",
       "    .dataframe thead th {\n",
       "        text-align: right;\n",
       "    }\n",
       "</style>\n",
       "<table border=\"1\" class=\"dataframe\">\n",
       "  <thead>\n",
       "    <tr style=\"text-align: right;\">\n",
       "      <th></th>\n",
       "      <th>Restaurant ID</th>\n",
       "      <th>Restaurant Name</th>\n",
       "      <th>Country Code</th>\n",
       "      <th>City</th>\n",
       "      <th>Address</th>\n",
       "      <th>Locality</th>\n",
       "      <th>Locality Verbose</th>\n",
       "      <th>Longitude</th>\n",
       "      <th>Latitude</th>\n",
       "      <th>Cuisines</th>\n",
       "      <th>...</th>\n",
       "      <th>Has Table booking</th>\n",
       "      <th>Has Online delivery</th>\n",
       "      <th>Is delivering now</th>\n",
       "      <th>Switch to order menu</th>\n",
       "      <th>Price range</th>\n",
       "      <th>Aggregate rating</th>\n",
       "      <th>Rating color</th>\n",
       "      <th>Rating text</th>\n",
       "      <th>Votes</th>\n",
       "      <th>Price_in_US</th>\n",
       "    </tr>\n",
       "  </thead>\n",
       "  <tbody>\n",
       "    <tr>\n",
       "      <th>4088</th>\n",
       "      <td>309548</td>\n",
       "      <td>Tian - Asian Cuisine Studio - ITC Maurya</td>\n",
       "      <td>1</td>\n",
       "      <td>New Delhi</td>\n",
       "      <td>ITC Maurya, Diplomatic Enclave, Chanakyapuri, ...</td>\n",
       "      <td>ITC Maurya, Chanakyapuri</td>\n",
       "      <td>ITC Maurya, Chanakyapuri, New Delhi</td>\n",
       "      <td>77.173455</td>\n",
       "      <td>28.597351</td>\n",
       "      <td>Asian, Japanese, Korean, Thai, Chinese</td>\n",
       "      <td>...</td>\n",
       "      <td>No</td>\n",
       "      <td>No</td>\n",
       "      <td>No</td>\n",
       "      <td>No</td>\n",
       "      <td>4</td>\n",
       "      <td>4.1</td>\n",
       "      <td>Green</td>\n",
       "      <td>Very Good</td>\n",
       "      <td>188</td>\n",
       "      <td>91.0</td>\n",
       "    </tr>\n",
       "  </tbody>\n",
       "</table>\n",
       "<p>1 rows × 22 columns</p>\n",
       "</div>"
      ],
      "text/plain": [
       "      Restaurant ID                           Restaurant Name  Country Code  \\\n",
       "4088         309548  Tian - Asian Cuisine Studio - ITC Maurya             1   \n",
       "\n",
       "           City                                            Address  \\\n",
       "4088  New Delhi  ITC Maurya, Diplomatic Enclave, Chanakyapuri, ...   \n",
       "\n",
       "                      Locality                     Locality Verbose  \\\n",
       "4088  ITC Maurya, Chanakyapuri  ITC Maurya, Chanakyapuri, New Delhi   \n",
       "\n",
       "      Longitude   Latitude                                Cuisines  ...  \\\n",
       "4088  77.173455  28.597351  Asian, Japanese, Korean, Thai, Chinese  ...   \n",
       "\n",
       "      Has Table booking Has Online delivery Is delivering now  \\\n",
       "4088                 No                  No                No   \n",
       "\n",
       "     Switch to order menu Price range Aggregate rating  Rating color  \\\n",
       "4088                   No           4              4.1         Green   \n",
       "\n",
       "      Rating text Votes Price_in_US  \n",
       "4088    Very Good   188        91.0  \n",
       "\n",
       "[1 rows x 22 columns]"
      ]
     },
     "execution_count": 55,
     "metadata": {},
     "output_type": "execute_result"
    }
   ],
   "source": [
    "chinese_res_new_delhi[chinese_res_new_delhi[\"Price_in_US\"]==max_price_chinese_new_delhi]"
   ]
  },
  {
   "cell_type": "markdown",
   "id": "40635b47",
   "metadata": {},
   "source": [
    "# 12. Plot as a pie 5 cities with the highest number of restaurants"
   ]
  },
  {
   "cell_type": "code",
   "execution_count": 61,
   "id": "11fb21d1",
   "metadata": {},
   "outputs": [],
   "source": [
    "most_res = df.groupby(\"City\")[\"Restaurant Name\"].count()\n",
    "most_res.sort_values(ascending=False, inplace=True)"
   ]
  },
  {
   "cell_type": "code",
   "execution_count": 65,
   "id": "c7ebf0fb",
   "metadata": {},
   "outputs": [
    {
     "data": {
      "text/plain": [
       "<AxesSubplot:ylabel='Restaurant Name'>"
      ]
     },
     "execution_count": 65,
     "metadata": {},
     "output_type": "execute_result"
    },
    {
     "data": {
      "image/png": "[encoded data removed]",
      "text/plain": [
       "<Figure size 432x288 with 1 Axes>"
      ]
     },
     "metadata": {},
     "output_type": "display_data"
    }
   ],
   "source": [
    "most_res[:5].plot.pie()"
   ]
  },
  {
   "cell_type": "code",
   "execution_count": 73,
   "id": "d1c902c3",
   "metadata": {},
   "outputs": [
    {
     "data": {
      "image/png": "[encoded data removed]",
      "text/plain": [
       "<Figure size 432x288 with 1 Axes>"
      ]
     },
     "metadata": {},
     "output_type": "display_data"
    }
   ],
   "source": [
    "plt.pie(most_res[:5].values,labels=most_res[:5].index);"
   ]
  },
  {
   "cell_type": "code",
   "execution_count": null,
   "id": "02742dcc",
   "metadata": {},
   "outputs": [],
   "source": []
  }
 ],
 "metadata": {
  "kernelspec": {
   "display_name": "Python 3 (ipykernel)",
   "language": "python",
   "name": "python3"
  },
  "language_info": {
   "codemirror_mode": {
    "name": "ipython",
    "version": 3
   },
   "file_extension": ".py",
   "mimetype": "text/x-python",
   "name": "python",
   "nbconvert_exporter": "python",
   "pygments_lexer": "ipython3",
   "version": "3.9.7"
  }
 },
 "nbformat": 4,
 "nbformat_minor": 5
}
