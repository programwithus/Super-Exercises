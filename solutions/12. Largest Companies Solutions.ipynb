{
 "cells": [
  {
   "cell_type": "markdown",
   "id": "cef714df",
   "metadata": {},
   "source": [
    "# 6000 Largest Companies in the World"
   ]
  },
  {
   "cell_type": "markdown",
   "id": "8f269035",
   "metadata": {},
   "source": [
    "We will take a look at the largest world companies in this example. The data comes from https://companiesmarketcap.com"
   ]
  },
  {
   "cell_type": "markdown",
   "id": "4e292b8f",
   "metadata": {},
   "source": [
    "Exercise Goals & Objectives:\n",
    "- Pandas\n",
    "- Matplotlib\n",
    "- EDA Analysis"
   ]
  },
  {
   "cell_type": "markdown",
   "id": "a17495a6",
   "metadata": {},
   "source": [
    "Data Set:\n",
    "    Read the CSV file **LargestCompanies.csv** from datasets folder "
   ]
  },
  {
   "cell_type": "markdown",
   "id": "a0460ef3",
   "metadata": {},
   "source": [
    "# 1. Import the Libraries"
   ]
  },
  {
   "cell_type": "code",
   "execution_count": 4,
   "id": "2075dce4",
   "metadata": {},
   "outputs": [],
   "source": [
    "import pandas as pd\n",
    "import matplotlib.pyplot as plt"
   ]
  },
  {
   "cell_type": "markdown",
   "id": "cbd2eab0",
   "metadata": {},
   "source": [
    "# 2. Read LargestCompanies.csv as a DataFrame using Pandas"
   ]
  },
  {
   "cell_type": "code",
   "execution_count": 6,
   "id": "45ebd2eb",
   "metadata": {},
   "outputs": [
    {
     "data": {
      "text/html": [
       "<div>\n",
       "<style scoped>\n",
       "    .dataframe tbody tr th:only-of-type {\n",
       "        vertical-align: middle;\n",
       "    }\n",
       "\n",
       "    .dataframe tbody tr th {\n",
       "        vertical-align: top;\n",
       "    }\n",
       "\n",
       "    .dataframe thead th {\n",
       "        text-align: right;\n",
       "    }\n",
       "</style>\n",
       "<table border=\"1\" class=\"dataframe\">\n",
       "  <thead>\n",
       "    <tr style=\"text-align: right;\">\n",
       "      <th></th>\n",
       "      <th>Rank</th>\n",
       "      <th>Name</th>\n",
       "      <th>Symbol</th>\n",
       "      <th>marketcap</th>\n",
       "      <th>price (USD)</th>\n",
       "      <th>country</th>\n",
       "    </tr>\n",
       "  </thead>\n",
       "  <tbody>\n",
       "    <tr>\n",
       "      <th>0</th>\n",
       "      <td>1</td>\n",
       "      <td>Apple</td>\n",
       "      <td>AAPL</td>\n",
       "      <td>2801388224512</td>\n",
       "      <td>171.66</td>\n",
       "      <td>United States</td>\n",
       "    </tr>\n",
       "    <tr>\n",
       "      <th>1</th>\n",
       "      <td>2</td>\n",
       "      <td>Microsoft</td>\n",
       "      <td>MSFT</td>\n",
       "      <td>2256182968320</td>\n",
       "      <td>300.95</td>\n",
       "      <td>United States</td>\n",
       "    </tr>\n",
       "    <tr>\n",
       "      <th>2</th>\n",
       "      <td>3</td>\n",
       "      <td>Saudi Aramco</td>\n",
       "      <td>2222.SR</td>\n",
       "      <td>1973864961187</td>\n",
       "      <td>9.88</td>\n",
       "      <td>Saudi Arabia</td>\n",
       "    </tr>\n",
       "    <tr>\n",
       "      <th>3</th>\n",
       "      <td>4</td>\n",
       "      <td>Alphabet (Google)</td>\n",
       "      <td>GOOG</td>\n",
       "      <td>1838538817536</td>\n",
       "      <td>2778.76</td>\n",
       "      <td>United States</td>\n",
       "    </tr>\n",
       "    <tr>\n",
       "      <th>4</th>\n",
       "      <td>5</td>\n",
       "      <td>Amazon</td>\n",
       "      <td>AMZN</td>\n",
       "      <td>1607290585088</td>\n",
       "      <td>3158.71</td>\n",
       "      <td>United States</td>\n",
       "    </tr>\n",
       "  </tbody>\n",
       "</table>\n",
       "</div>"
      ],
      "text/plain": [
       "   Rank               Name   Symbol      marketcap  price (USD)        country\n",
       "0     1              Apple     AAPL  2801388224512       171.66  United States\n",
       "1     2          Microsoft     MSFT  2256182968320       300.95  United States\n",
       "2     3       Saudi Aramco  2222.SR  1973864961187         9.88   Saudi Arabia\n",
       "3     4  Alphabet (Google)     GOOG  1838538817536      2778.76  United States\n",
       "4     5             Amazon     AMZN  1607290585088      3158.71  United States"
      ]
     },
     "execution_count": 6,
     "metadata": {},
     "output_type": "execute_result"
    }
   ],
   "source": [
    "df = pd.read_csv(\"datasets/LargestCompanies.csv\")\n",
    "df.head()"
   ]
  },
  {
   "cell_type": "markdown",
   "id": "abdae640",
   "metadata": {},
   "source": [
    "# 3. Use Pandas groupby() method to count how many companies located in each country in the dataset"
   ]
  },
  {
   "cell_type": "code",
   "execution_count": 7,
   "id": "04ac8c08",
   "metadata": {},
   "outputs": [
    {
     "data": {
      "text/plain": [
       "country\n",
       "Argentina                 13\n",
       "Australia                 45\n",
       "Austria                   30\n",
       "BM                         1\n",
       "Bahamas                    2\n",
       "                        ... \n",
       "Turkey                    29\n",
       "United Arab Emirates       2\n",
       "United Kingdom           108\n",
       "United States           3259\n",
       "Uruguay                    2\n",
       "Name: Symbol, Length: 68, dtype: int64"
      ]
     },
     "execution_count": 7,
     "metadata": {},
     "output_type": "execute_result"
    }
   ],
   "source": [
    "countries = df.groupby(\"country\")[\"Symbol\"].count()\n",
    "countries"
   ]
  },
  {
   "cell_type": "markdown",
   "id": "bcf40c02",
   "metadata": {},
   "source": [
    "# 4. Sort the result in descending order"
   ]
  },
  {
   "cell_type": "code",
   "execution_count": 8,
   "id": "ee0428cc",
   "metadata": {},
   "outputs": [],
   "source": [
    "countries.sort_values(ascending=False, inplace=True)"
   ]
  },
  {
   "cell_type": "code",
   "execution_count": 9,
   "id": "fd6d6e6f",
   "metadata": {},
   "outputs": [
    {
     "data": {
      "text/plain": [
       "country\n",
       "United States    3259\n",
       "India             530\n",
       "Japan             224\n",
       "Canada            211\n",
       "China             192\n",
       "                 ... \n",
       "Estonia             1\n",
       "Egypt               1\n",
       "Costa Rica          1\n",
       "BM                  1\n",
       "Philippines         1\n",
       "Name: Symbol, Length: 68, dtype: int64"
      ]
     },
     "execution_count": 9,
     "metadata": {},
     "output_type": "execute_result"
    }
   ],
   "source": [
    "countries"
   ]
  },
  {
   "cell_type": "markdown",
   "id": "ac3a96de",
   "metadata": {},
   "source": [
    "# 5. Plot 5 first contries with the largest number of companies as a pie plot"
   ]
  },
  {
   "cell_type": "code",
   "execution_count": 10,
   "id": "08c94aeb",
   "metadata": {},
   "outputs": [],
   "source": [
    "top = countries.iloc[:5]"
   ]
  },
  {
   "cell_type": "code",
   "execution_count": 20,
   "id": "c124ddc1",
   "metadata": {},
   "outputs": [
    {
     "data": {
      "image/png": "[encoded data removed]",
      "text/plain": [
       "<Figure size 432x288 with 1 Axes>"
      ]
     },
     "metadata": {},
     "output_type": "display_data"
    }
   ],
   "source": [
    "x = top.values\n",
    "labels = top.index\n",
    "palette = [\"#F33A03\",\"#CCCCFF\",\"#FF7F50\",\"#800080\",\"#40E0D0\"]\n",
    "standout =[0.2, 0.0, 0, 0,0]\n",
    "plt.title(\"Largest Companies, Breakdown by Country\")\n",
    "plt.pie(x, labels=labels, colors=palette, explode=standout, autopct='%.2f%%', shadow=True);"
   ]
  },
  {
   "cell_type": "markdown",
   "id": "1e81b08e",
   "metadata": {},
   "source": [
    "# 6. How many companies in the dataset located in United Kingdom"
   ]
  },
  {
   "cell_type": "code",
   "execution_count": 22,
   "id": "f2b5d195",
   "metadata": {},
   "outputs": [
    {
     "data": {
      "text/plain": [
       "Rank           108\n",
       "Name           108\n",
       "Symbol         108\n",
       "marketcap      108\n",
       "price (USD)    108\n",
       "country        108\n",
       "dtype: int64"
      ]
     },
     "execution_count": 22,
     "metadata": {},
     "output_type": "execute_result"
    }
   ],
   "source": [
    "df[df[\"country\"] == \"United Kingdom\"].count()"
   ]
  },
  {
   "cell_type": "markdown",
   "id": "0df40fe2",
   "metadata": {},
   "source": [
    "# 7. What is the total capitalization of all the companies in United Kingdom"
   ]
  },
  {
   "cell_type": "code",
   "execution_count": 24,
   "id": "72055635",
   "metadata": {},
   "outputs": [
    {
     "data": {
      "text/plain": [
       "2558601082064"
      ]
     },
     "execution_count": 24,
     "metadata": {},
     "output_type": "execute_result"
    }
   ],
   "source": [
    "uk_cap = df[df[\"country\"] == \"United Kingdom\"][\"marketcap\"].sum()\n",
    "uk_cap"
   ]
  },
  {
   "cell_type": "markdown",
   "id": "4dca0a42",
   "metadata": {},
   "source": [
    "# 8. What percentage is United Kingdom capitalization of the total market capitalization of all companies in the dataset"
   ]
  },
  {
   "cell_type": "code",
   "execution_count": 25,
   "id": "6acf3c4f",
   "metadata": {},
   "outputs": [],
   "source": [
    "total_cap = df[\"marketcap\"].sum()"
   ]
  },
  {
   "cell_type": "code",
   "execution_count": 29,
   "id": "cb7c647c",
   "metadata": {},
   "outputs": [
    {
     "data": {
      "text/plain": [
       "2.74"
      ]
     },
     "execution_count": 29,
     "metadata": {},
     "output_type": "execute_result"
    }
   ],
   "source": [
    "uk_percent = round((uk_cap/total_cap)*100,2)\n",
    "uk_percent"
   ]
  },
  {
   "cell_type": "markdown",
   "id": "8783aa16",
   "metadata": {},
   "source": [
    "# 9. Which company has Symbol NSRGY, get the Company name and Country of origin"
   ]
  },
  {
   "cell_type": "code",
   "execution_count": 33,
   "id": "94515c5d",
   "metadata": {},
   "outputs": [
    {
     "data": {
      "text/html": [
       "<div>\n",
       "<style scoped>\n",
       "    .dataframe tbody tr th:only-of-type {\n",
       "        vertical-align: middle;\n",
       "    }\n",
       "\n",
       "    .dataframe tbody tr th {\n",
       "        vertical-align: top;\n",
       "    }\n",
       "\n",
       "    .dataframe thead th {\n",
       "        text-align: right;\n",
       "    }\n",
       "</style>\n",
       "<table border=\"1\" class=\"dataframe\">\n",
       "  <thead>\n",
       "    <tr style=\"text-align: right;\">\n",
       "      <th></th>\n",
       "      <th>Name</th>\n",
       "      <th>country</th>\n",
       "    </tr>\n",
       "  </thead>\n",
       "  <tbody>\n",
       "    <tr>\n",
       "      <th>23</th>\n",
       "      <td>Nestlé</td>\n",
       "      <td>Switzerland</td>\n",
       "    </tr>\n",
       "  </tbody>\n",
       "</table>\n",
       "</div>"
      ],
      "text/plain": [
       "      Name      country\n",
       "23  Nestlé  Switzerland"
      ]
     },
     "execution_count": 33,
     "metadata": {},
     "output_type": "execute_result"
    }
   ],
   "source": [
    "df[[\"Name\",\"country\"]][df[\"Symbol\"]==\"NSRGY\"]"
   ]
  },
  {
   "cell_type": "markdown",
   "id": "c68815a6",
   "metadata": {},
   "source": [
    "# 10. Using method describe get the mean market capitalization of all companies in the dataset"
   ]
  },
  {
   "cell_type": "code",
   "execution_count": 34,
   "id": "3079f5aa",
   "metadata": {},
   "outputs": [
    {
     "data": {
      "text/html": [
       "<div>\n",
       "<style scoped>\n",
       "    .dataframe tbody tr th:only-of-type {\n",
       "        vertical-align: middle;\n",
       "    }\n",
       "\n",
       "    .dataframe tbody tr th {\n",
       "        vertical-align: top;\n",
       "    }\n",
       "\n",
       "    .dataframe thead th {\n",
       "        text-align: right;\n",
       "    }\n",
       "</style>\n",
       "<table border=\"1\" class=\"dataframe\">\n",
       "  <thead>\n",
       "    <tr style=\"text-align: right;\">\n",
       "      <th></th>\n",
       "      <th>Rank</th>\n",
       "      <th>marketcap</th>\n",
       "      <th>price (USD)</th>\n",
       "    </tr>\n",
       "  </thead>\n",
       "  <tbody>\n",
       "    <tr>\n",
       "      <th>count</th>\n",
       "      <td>5943.000000</td>\n",
       "      <td>5.943000e+03</td>\n",
       "      <td>5943.000000</td>\n",
       "    </tr>\n",
       "    <tr>\n",
       "      <th>mean</th>\n",
       "      <td>2972.000000</td>\n",
       "      <td>1.573135e+10</td>\n",
       "      <td>171.654897</td>\n",
       "    </tr>\n",
       "    <tr>\n",
       "      <th>std</th>\n",
       "      <td>1715.740656</td>\n",
       "      <td>7.348253e+10</td>\n",
       "      <td>6350.245662</td>\n",
       "    </tr>\n",
       "    <tr>\n",
       "      <th>min</th>\n",
       "      <td>1.000000</td>\n",
       "      <td>0.000000e+00</td>\n",
       "      <td>0.000000</td>\n",
       "    </tr>\n",
       "    <tr>\n",
       "      <th>25%</th>\n",
       "      <td>1486.500000</td>\n",
       "      <td>8.304696e+08</td>\n",
       "      <td>6.570000</td>\n",
       "    </tr>\n",
       "    <tr>\n",
       "      <th>50%</th>\n",
       "      <td>2972.000000</td>\n",
       "      <td>3.128072e+09</td>\n",
       "      <td>22.110000</td>\n",
       "    </tr>\n",
       "    <tr>\n",
       "      <th>75%</th>\n",
       "      <td>4457.500000</td>\n",
       "      <td>1.060327e+10</td>\n",
       "      <td>57.455000</td>\n",
       "    </tr>\n",
       "    <tr>\n",
       "      <th>max</th>\n",
       "      <td>5943.000000</td>\n",
       "      <td>2.801388e+12</td>\n",
       "      <td>474900.000000</td>\n",
       "    </tr>\n",
       "  </tbody>\n",
       "</table>\n",
       "</div>"
      ],
      "text/plain": [
       "              Rank     marketcap    price (USD)\n",
       "count  5943.000000  5.943000e+03    5943.000000\n",
       "mean   2972.000000  1.573135e+10     171.654897\n",
       "std    1715.740656  7.348253e+10    6350.245662\n",
       "min       1.000000  0.000000e+00       0.000000\n",
       "25%    1486.500000  8.304696e+08       6.570000\n",
       "50%    2972.000000  3.128072e+09      22.110000\n",
       "75%    4457.500000  1.060327e+10      57.455000\n",
       "max    5943.000000  2.801388e+12  474900.000000"
      ]
     },
     "execution_count": 34,
     "metadata": {},
     "output_type": "execute_result"
    }
   ],
   "source": [
    "df.describe()"
   ]
  },
  {
   "cell_type": "code",
   "execution_count": 36,
   "id": "4d51afb4",
   "metadata": {},
   "outputs": [
    {
     "data": {
      "text/plain": [
       "15731351090.098604"
      ]
     },
     "execution_count": 36,
     "metadata": {},
     "output_type": "execute_result"
    }
   ],
   "source": [
    "df.describe().loc[\"mean\",\"marketcap\"]"
   ]
  },
  {
   "cell_type": "markdown",
   "id": "efb18153",
   "metadata": {},
   "source": [
    "# 11. Get the total market capitalization by country"
   ]
  },
  {
   "cell_type": "markdown",
   "id": "a6921081",
   "metadata": {},
   "source": [
    "Hint: use groupby() and aggrigation method sum()"
   ]
  },
  {
   "cell_type": "code",
   "execution_count": 40,
   "id": "218f132c",
   "metadata": {},
   "outputs": [
    {
     "data": {
      "text/plain": [
       "country\n",
       "Argentina                  65766226272\n",
       "Australia                1345593816806\n",
       "Austria                   190648886968\n",
       "BM                         11289454592\n",
       "Bahamas                     1077775120\n",
       "                             ...      \n",
       "Turkey                     82409011368\n",
       "United Arab Emirates        1797135872\n",
       "United Kingdom           2558601082064\n",
       "United States           48790307366933\n",
       "Uruguay                    10486091520\n",
       "Name: marketcap, Length: 68, dtype: int64"
      ]
     },
     "execution_count": 40,
     "metadata": {},
     "output_type": "execute_result"
    }
   ],
   "source": [
    "country_cap = df.groupby(\"country\")[\"marketcap\"].sum()\n",
    "country_cap"
   ]
  },
  {
   "cell_type": "markdown",
   "id": "3a43fd75",
   "metadata": {},
   "source": [
    "# 12. Sort the results in descending order"
   ]
  },
  {
   "cell_type": "code",
   "execution_count": 41,
   "id": "151a189b",
   "metadata": {},
   "outputs": [],
   "source": [
    "country_cap.sort_values(ascending=False, inplace=True)"
   ]
  },
  {
   "cell_type": "markdown",
   "id": "4c63f660",
   "metadata": {},
   "source": [
    "# 13. Get the top 10 countries by market capitalization"
   ]
  },
  {
   "cell_type": "code",
   "execution_count": 42,
   "id": "30fabc34",
   "metadata": {},
   "outputs": [
    {
     "data": {
      "text/plain": [
       "country\n",
       "United States     48790307366933\n",
       "China              7165398618621\n",
       "Japan              4320293261415\n",
       "India              3081335973189\n",
       "France             2922064964879\n",
       "United Kingdom     2558601082064\n",
       "Canada             2501938404821\n",
       "Germany            2410540233495\n",
       "Saudi Arabia       2399150825867\n",
       "Switzerland        2109920262575\n",
       "Name: marketcap, dtype: int64"
      ]
     },
     "execution_count": 42,
     "metadata": {},
     "output_type": "execute_result"
    }
   ],
   "source": [
    "country_cap = country_cap.iloc[:10]\n",
    "country_cap"
   ]
  },
  {
   "cell_type": "markdown",
   "id": "6b13cc97",
   "metadata": {},
   "source": [
    "# 14. Convert absolut numbers in the 10 top contries by market capitalization into Trillions, there are 12 zeros in one trillion"
   ]
  },
  {
   "cell_type": "markdown",
   "id": "8759b953",
   "metadata": {},
   "source": [
    "Hint: divide numbers by 1000000000000 and round them"
   ]
  },
  {
   "cell_type": "code",
   "execution_count": 51,
   "id": "8aaa61f1",
   "metadata": {},
   "outputs": [],
   "source": [
    "country_cap = (country_cap/1000000000000).round(2)"
   ]
  },
  {
   "cell_type": "markdown",
   "id": "c93ea842",
   "metadata": {},
   "source": [
    "# 15. the top 10 countries by market capitalization as horizontal bar plot"
   ]
  },
  {
   "cell_type": "markdown",
   "id": "98c7524a",
   "metadata": {},
   "source": [
    "Hint: use plt.barh()"
   ]
  },
  {
   "cell_type": "code",
   "execution_count": 52,
   "id": "702cd1c5",
   "metadata": {},
   "outputs": [
    {
     "data": {
      "image/png": "[encoded data removed]",
      "text/plain": [
       "<Figure size 432x288 with 1 Axes>"
      ]
     },
     "metadata": {
      "needs_background": "light"
     },
     "output_type": "display_data"
    }
   ],
   "source": [
    "x = country_cap.index\n",
    "h = country_cap.values\n",
    "plt.title(\"Top 10 countries by market capitalization\")\n",
    "plt.xlabel(\"USD Trillions\")\n",
    "plt.barh(x, h);"
   ]
  }
 ],
 "metadata": {
  "kernelspec": {
   "display_name": "Python 3 (ipykernel)",
   "language": "python",
   "name": "python3"
  },
  "language_info": {
   "codemirror_mode": {
    "name": "ipython",
    "version": 3
   },
   "file_extension": ".py",
   "mimetype": "text/x-python",
   "name": "python",
   "nbconvert_exporter": "python",
   "pygments_lexer": "ipython3",
   "version": "3.9.7"
  }
 },
 "nbformat": 4,
 "nbformat_minor": 5
}
