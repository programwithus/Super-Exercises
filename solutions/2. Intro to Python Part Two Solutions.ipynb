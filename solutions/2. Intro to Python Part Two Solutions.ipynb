{
 "cells": [
  {
   "cell_type": "markdown",
   "id": "b6a39d62",
   "metadata": {},
   "source": [
    "# Intro to Python Part Two Exercises"
   ]
  },
  {
   "cell_type": "raw",
   "id": "8823732f",
   "metadata": {},
   "source": [
    "Exercise Goals & Objectives:\n",
    "- Learn and prctice Python Built-in Data Types\n",
    "- Practice functions print() int() float() input()\n",
    "- Practice logical statements if elif else"
   ]
  },
  {
   "cell_type": "markdown",
   "id": "9835f8b2",
   "metadata": {},
   "source": [
    "# Exercise 1."
   ]
  },
  {
   "cell_type": "markdown",
   "id": "05e8adfe",
   "metadata": {},
   "source": [
    "1. Write a program that takes a list of numbers and iterates through each number on a list and counts all numbers that are equal to 1. "
   ]
  },
  {
   "cell_type": "code",
   "execution_count": 2,
   "id": "0d44d247",
   "metadata": {},
   "outputs": [],
   "source": [
    "a_list = [1,3,55,1,9,4,56,2,1,8]"
   ]
  },
  {
   "cell_type": "code",
   "execution_count": 4,
   "id": "ab9ad37c",
   "metadata": {},
   "outputs": [
    {
     "name": "stdout",
     "output_type": "stream",
     "text": [
      "Total 3\n"
     ]
    }
   ],
   "source": [
    "a_list = [1,3,55,1,9,4,56,2,1,8]\n",
    "counter = 0\n",
    "for number in a_list:\n",
    "    if number == 1:\n",
    "        counter +=1\n",
    "#         print(\"Now counter is:\", counter)\n",
    "print(\"Total\", counter)"
   ]
  },
  {
   "cell_type": "markdown",
   "id": "bf2b2f8c",
   "metadata": {},
   "source": [
    "# Exercise 2."
   ]
  },
  {
   "cell_type": "markdown",
   "id": "592df208",
   "metadata": {},
   "source": [
    "2. Replace 99 with 400 in the numbers list ."
   ]
  },
  {
   "cell_type": "code",
   "execution_count": 5,
   "id": "7b864f3b",
   "metadata": {},
   "outputs": [],
   "source": [
    "numbers = [1,2,3,400,400,400,400,5,6,7,99]"
   ]
  },
  {
   "cell_type": "code",
   "execution_count": 10,
   "id": "695fa89b",
   "metadata": {},
   "outputs": [
    {
     "name": "stdout",
     "output_type": "stream",
     "text": [
      "[1, 2, 3, 400, 400, 400, 400, 5, 6, 7, 400]\n"
     ]
    }
   ],
   "source": [
    "numbers = [1,2,3,400,400,400,400,5,6,7,99]\n",
    "counter = 0\n",
    "\n",
    "for i in numbers:\n",
    "    if i == 99:\n",
    "        ind = numbers.index(i)\n",
    "        numbers[ind] = 400\n",
    "print(numbers)"
   ]
  },
  {
   "cell_type": "markdown",
   "id": "8bf88784",
   "metadata": {},
   "source": [
    "# Exercise 3."
   ]
  },
  {
   "cell_type": "markdown",
   "id": "b825c026",
   "metadata": {},
   "source": [
    "3. How many times 400 appears in the numbers list "
   ]
  },
  {
   "cell_type": "code",
   "execution_count": 6,
   "id": "26761305",
   "metadata": {},
   "outputs": [],
   "source": [
    "numbers = [1,2,3,400,400,400,400,5,6,7,400]"
   ]
  },
  {
   "cell_type": "code",
   "execution_count": 11,
   "id": "6546ede9",
   "metadata": {},
   "outputs": [
    {
     "name": "stdout",
     "output_type": "stream",
     "text": [
      "5\n"
     ]
    }
   ],
   "source": [
    "numbers = [1,2,3,400,400,400,400,5,6,7,400]\n",
    "counter_of_400 = 0\n",
    "\n",
    "for i in numbers:\n",
    "    if i == 400:\n",
    "        counter_of_400 += 1\n",
    "print(counter_of_400)"
   ]
  },
  {
   "cell_type": "markdown",
   "id": "eb778581",
   "metadata": {},
   "source": [
    "Another solution"
   ]
  },
  {
   "cell_type": "code",
   "execution_count": 12,
   "id": "905876f5",
   "metadata": {},
   "outputs": [
    {
     "data": {
      "text/plain": [
       "5"
      ]
     },
     "execution_count": 12,
     "metadata": {},
     "output_type": "execute_result"
    }
   ],
   "source": [
    "numbers.count(400)"
   ]
  },
  {
   "cell_type": "markdown",
   "id": "15c5791e",
   "metadata": {},
   "source": [
    "# Exercise 4."
   ]
  },
  {
   "cell_type": "markdown",
   "id": "e1246bac",
   "metadata": {},
   "source": [
    "4. Count the number of the letters in each word and add these numbers to the new list words_count"
   ]
  },
  {
   "cell_type": "code",
   "execution_count": 7,
   "id": "567ab241",
   "metadata": {},
   "outputs": [],
   "source": [
    "words = [\"apple\",\"mango\",\"pineapple\", \"grapes\", \"banana\", \"apricot\", \"avocado\"]"
   ]
  },
  {
   "cell_type": "code",
   "execution_count": 13,
   "id": "27168e9b",
   "metadata": {},
   "outputs": [
    {
     "data": {
      "text/plain": [
       "[5, 5, 9, 6, 6, 7, 7]"
      ]
     },
     "execution_count": 13,
     "metadata": {},
     "output_type": "execute_result"
    }
   ],
   "source": [
    "words = [\"apple\",\"mango\",\"pineapple\", \"grapes\", \"banana\", \"apricot\", \"avocado\"]\n",
    "word_count = []\n",
    "\n",
    "for word in words:\n",
    "    word_count.append(len(word))\n",
    "word_count"
   ]
  },
  {
   "cell_type": "markdown",
   "id": "17320cdd",
   "metadata": {},
   "source": [
    "# Exercise 5."
   ]
  },
  {
   "cell_type": "markdown",
   "id": "91b7472d",
   "metadata": {},
   "source": [
    "5. Write a Python program which iterates the integers from 1 to 100. For multiples of three print \"Fizz\" instead of the number and for the multiples of five print \"Buzz\". For numbers which are multiples of both three and five print \"FizzBuzz\".\n",
    "\n",
    "```\n",
    "Hint: use function range() and % a modulo operator\n",
    "```\n",
    "https://www.geeksforgeeks.org/what-is-a-modulo-operator-in-python/"
   ]
  },
  {
   "cell_type": "code",
   "execution_count": 14,
   "id": "9cee6ed0",
   "metadata": {},
   "outputs": [
    {
     "name": "stdout",
     "output_type": "stream",
     "text": [
      "1\n",
      "2\n",
      "Fizz\n",
      "4\n",
      "Buzz\n",
      "Fizz\n",
      "7\n",
      "8\n",
      "Fizz\n",
      "Buzz\n",
      "11\n",
      "Fizz\n",
      "13\n",
      "14\n",
      "FizzBuzz\n",
      "16\n",
      "17\n",
      "Fizz\n",
      "19\n",
      "Buzz\n",
      "Fizz\n",
      "22\n",
      "23\n",
      "Fizz\n",
      "Buzz\n",
      "26\n",
      "Fizz\n",
      "28\n",
      "29\n",
      "FizzBuzz\n",
      "31\n",
      "32\n",
      "Fizz\n",
      "34\n",
      "Buzz\n",
      "Fizz\n",
      "37\n",
      "38\n",
      "Fizz\n",
      "Buzz\n",
      "41\n",
      "Fizz\n",
      "43\n",
      "44\n",
      "FizzBuzz\n",
      "46\n",
      "47\n",
      "Fizz\n",
      "49\n",
      "Buzz\n",
      "Fizz\n",
      "52\n",
      "53\n",
      "Fizz\n",
      "Buzz\n",
      "56\n",
      "Fizz\n",
      "58\n",
      "59\n",
      "FizzBuzz\n",
      "61\n",
      "62\n",
      "Fizz\n",
      "64\n",
      "Buzz\n",
      "Fizz\n",
      "67\n",
      "68\n",
      "Fizz\n",
      "Buzz\n",
      "71\n",
      "Fizz\n",
      "73\n",
      "74\n",
      "FizzBuzz\n",
      "76\n",
      "77\n",
      "Fizz\n",
      "79\n",
      "Buzz\n",
      "Fizz\n",
      "82\n",
      "83\n",
      "Fizz\n",
      "Buzz\n",
      "86\n",
      "Fizz\n",
      "88\n",
      "89\n",
      "FizzBuzz\n",
      "91\n",
      "92\n",
      "Fizz\n",
      "94\n",
      "Buzz\n",
      "Fizz\n",
      "97\n",
      "98\n",
      "Fizz\n",
      "Buzz\n"
     ]
    }
   ],
   "source": [
    "for number in range(1,101):\n",
    "    if number % 3 == 0 and number % 5 == 0:\n",
    "        print(\"FizzBuzz\")\n",
    "    elif number % 3 == 0:\n",
    "        print(\"Fizz\")\n",
    "    elif number % 5 == 0:\n",
    "        print(\"Buzz\")\n",
    "    else:\n",
    "        print(number)"
   ]
  },
  {
   "cell_type": "markdown",
   "id": "bff1e820",
   "metadata": {},
   "source": [
    "# Exercise 6."
   ]
  },
  {
   "cell_type": "markdown",
   "id": "2036d591",
   "metadata": {},
   "source": [
    "6. Write a Python program to construct the following pattern.\n",
    "\n",
    "```\n",
    "* \n",
    "* * \n",
    "* * * \n",
    "* * * * \n",
    "* * * * * \n",
    "* * * * \n",
    "* * * \n",
    "* * \n",
    "*\n",
    "```\n",
    "Hint: use function range()"
   ]
  },
  {
   "cell_type": "code",
   "execution_count": 17,
   "id": "bf4bf933",
   "metadata": {},
   "outputs": [
    {
     "name": "stdout",
     "output_type": "stream",
     "text": [
      "\n",
      " * \n",
      " *  * \n",
      " *  *  * \n",
      " *  *  *  * \n",
      " *  *  *  *  * \n",
      " *  *  *  * \n",
      " *  *  * \n",
      " *  * \n",
      " * \n"
     ]
    }
   ],
   "source": [
    "n = 5\n",
    "for i in range(n+1):\n",
    "    print(i*\" * \")\n",
    "\n",
    "for i in range(n-1, 0, -1):\n",
    "    print(i*\" * \")"
   ]
  },
  {
   "cell_type": "markdown",
   "id": "890b38f3",
   "metadata": {},
   "source": [
    "# Exercise 7."
   ]
  },
  {
   "cell_type": "markdown",
   "id": "3f24e9c8",
   "metadata": {},
   "source": [
    "7. In this exercise you will create a program that displays a multiplication table that shows the products of all combinations of integers from 1 times 1 up to and including 10 times 10. Your multiplication table should include a row of labels across the top of it containing the numbers 1 through 10. It should also include labels down the left side consisting of the numbers 1 through 10. When completing this exercise you will probably find it helpful to be able to print out a value without moving down to the next line. This can be accomplished by added end=\"\" as the last parameter to your print statement. For example, print(\"A\") will display the letter A and then move down to the next line. The statementprint(\"A\", end=\"\")will display the letter A without moving down to the next line, causing the next print statement to display its result on the same line as the letter A.\n",
    "Hint: Use nested for loops and look up function print() for fomatting check https://pyformat.info"
   ]
  },
  {
   "cell_type": "code",
   "execution_count": 18,
   "id": "c07d0287",
   "metadata": {},
   "outputs": [
    {
     "name": "stdout",
     "output_type": "stream",
     "text": [
      "   1    1    2    3    4    5    6    7    8    9   10 \n",
      "   2    2    4    6    8   10   12   14   16   18   20 \n",
      "   3    3    6    9   12   15   18   21   24   27   30 \n",
      "   4    4    8   12   16   20   24   28   32   36   40 \n",
      "   5    5   10   15   20   25   30   35   40   45   50 \n",
      "   6    6   12   18   24   30   36   42   48   54   60 \n",
      "   7    7   14   21   28   35   42   49   56   63   70 \n",
      "   8    8   16   24   32   40   48   56   64   72   80 \n",
      "   9    9   18   27   36   45   54   63   72   81   90 \n",
      "  10   10   20   30   40   50   60   70   80   90  100 \n"
     ]
    }
   ],
   "source": [
    "for i in range(1, 11):\n",
    "    print(\"{:4}\".format(i), end=\" \")\n",
    "\n",
    "    for j in range(1, 11):\n",
    "        print(\"{:4}\".format(i*j), end=\" \")\n",
    "    print()"
   ]
  },
  {
   "cell_type": "markdown",
   "id": "cd7562e8",
   "metadata": {},
   "source": [
    "# Exercise 8."
   ]
  },
  {
   "cell_type": "markdown",
   "id": "3a68e1b3",
   "metadata": {},
   "source": [
    "8. A string is a palindrome if it is identical forward and backward. For example “anna”, “civic”, “level” and “hannah” are all examples of palindromic words. Write a program that reads a string from the user and uses a loop to determines whether or not it is a palindrome. Display the result, including a meaningful output message."
   ]
  },
  {
   "cell_type": "code",
   "execution_count": 20,
   "id": "60bb61d3",
   "metadata": {},
   "outputs": [
    {
     "name": "stdout",
     "output_type": "stream",
     "text": [
      "Enter a string:racecar\n",
      "racecar is palindrome\n"
     ]
    }
   ],
   "source": [
    "string = input(\"Enter a string:\")\n",
    "\n",
    "is_palindrome = True\n",
    "\n",
    "for ind in range(len(string)//2):\n",
    "#     print(ind)\n",
    "#     print(\"ll\",string[len(string) - ind - 1])\n",
    "    if string[ind] != string[len(string) - ind - 1]:\n",
    "        is_palindrome = False\n",
    "\n",
    "if is_palindrome:\n",
    "    print(string, \"is palindrome\")\n",
    "else:\n",
    "    print(string, \"is NOT palindrome\")"
   ]
  },
  {
   "cell_type": "markdown",
   "id": "13f5dc3c",
   "metadata": {},
   "source": [
    "# Exercise 9."
   ]
  },
  {
   "cell_type": "markdown",
   "id": "6e884264",
   "metadata": {},
   "source": [
    "9. Write a Python program that accepts a string and calculate the number of digits and letters. use: help() to learn how to use isalpha() and isdigit()"
   ]
  },
  {
   "cell_type": "code",
   "execution_count": 21,
   "id": "732634b3",
   "metadata": {},
   "outputs": [
    {
     "name": "stdout",
     "output_type": "stream",
     "text": [
      "Input a string: apple12345\n",
      "Letters 5\n",
      "Digits 5\n"
     ]
    }
   ],
   "source": [
    "s = input(\"Input a string: \")\n",
    "d = 0\n",
    "l = 0\n",
    "for c in s:\n",
    "    if c.isdigit():\n",
    "        d = d+1\n",
    "    elif c.isalpha():\n",
    "        l = l+1\n",
    "print(\"Letters\", l)\n",
    "print(\"Digits\", d)"
   ]
  },
  {
   "cell_type": "markdown",
   "id": "27dbe948",
   "metadata": {},
   "source": [
    "# Exercise 10."
   ]
  },
  {
   "cell_type": "markdown",
   "id": "c2ccbc8c",
   "metadata": {},
   "source": [
    "10. Many people do not use capital letters correctly, especially when typing on small devices like smart phones. In this exercise, you will write a function that capitalizes the appropriate characters in a string. A lowercase “i” should be replaced with an uppercase “I” if it is both preceded and followed by a space. The first character in the string should also be capitalized, as well as the first non-space character after a “.”, “!” or “?”. For example, if the function is provided with the string “what time do i have to be there? what’s the address?” then it should return the string “What time do I have to be there? What’s the address?”. Include a main program that reads a string from the user, capitalizes it using your function, and displays the result."
   ]
  },
  {
   "cell_type": "code",
   "execution_count": 25,
   "id": "e420a7cb",
   "metadata": {},
   "outputs": [
    {
     "data": {
      "text/plain": [
       "'What time do I have to be there? What’s the address? Where is it?'"
      ]
     },
     "execution_count": 25,
     "metadata": {},
     "output_type": "execute_result"
    }
   ],
   "source": [
    "string = \"what time do i have to be there? what’s the address? where is it?\"\n",
    "\n",
    "string = string.capitalize()\n",
    "string = string.replace(\" i \", \" I \")\n",
    "\n",
    "for index in range(len(string)-1):\n",
    "    if string[index] in [\"!\",\"?\",\".\"]:\n",
    "        index_of_sign = index\n",
    "        letter_to_capitaize = string[index_of_sign + 2].capitalize()\n",
    "        part_one = string[0:index_of_sign + 2]\n",
    "        part_two = string[index_of_sign + 3:]\n",
    "        string = part_one + letter_to_capitaize + part_two\n",
    "string  "
   ]
  },
  {
   "cell_type": "code",
   "execution_count": null,
   "id": "04467a2b",
   "metadata": {},
   "outputs": [],
   "source": []
  }
 ],
 "metadata": {
  "kernelspec": {
   "display_name": "Python 3 (ipykernel)",
   "language": "python",
   "name": "python3"
  },
  "language_info": {
   "codemirror_mode": {
    "name": "ipython",
    "version": 3
   },
   "file_extension": ".py",
   "mimetype": "text/x-python",
   "name": "python",
   "nbconvert_exporter": "python",
   "pygments_lexer": "ipython3",
   "version": "3.9.7"
  }
 },
 "nbformat": 4,
 "nbformat_minor": 5
}
