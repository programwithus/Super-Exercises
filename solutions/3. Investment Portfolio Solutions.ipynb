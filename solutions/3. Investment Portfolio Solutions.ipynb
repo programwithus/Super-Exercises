{
 "cells": [
  {
   "cell_type": "markdown",
   "id": "44f2a2ab",
   "metadata": {},
   "source": [
    "# Investment Portfolio Exercise - Intro to Pandas"
   ]
  },
  {
   "cell_type": "markdown",
   "id": "99d5fa4b",
   "metadata": {},
   "source": [
    "Starting from scratch we will build a DataFrame to hold an investment portfolio. Please note that all information including the prices is made up and not intended to be used as an investment advise."
   ]
  },
  {
   "cell_type": "markdown",
   "id": "65cd9267",
   "metadata": {},
   "source": [
    "# Exercise Goals & Objectives:\n",
    "- Learn and prctice Pandas\n",
    "- Practice manipulating data with Pandas\n",
    "- Practice DataFrame\n",
    "- Practice Filtering DataFrame\n",
    "- Practice logical statements"
   ]
  },
  {
   "cell_type": "markdown",
   "id": "c69f8623",
   "metadata": {},
   "source": [
    "# 1. Import all necessary libriaries"
   ]
  },
  {
   "cell_type": "code",
   "execution_count": 1,
   "id": "25f309ea",
   "metadata": {},
   "outputs": [],
   "source": [
    "import pandas as pd"
   ]
  },
  {
   "cell_type": "markdown",
   "id": "501f1861",
   "metadata": {},
   "source": [
    "# 2. Using Python lists symbol, price, earnings create a DataFrame and save it under name df."
   ]
  },
  {
   "cell_type": "code",
   "execution_count": 3,
   "id": "6ff834a9",
   "metadata": {},
   "outputs": [],
   "source": [
    "symbol = [\"IBM\",\"MSFT\",\"ORCL\",\"AAPL\"]\n",
    "price = [134.35,151.78,55.68,267.50]\n",
    "earnings = [8.60,5.30,3.06,11.89]"
   ]
  },
  {
   "cell_type": "code",
   "execution_count": 4,
   "id": "a2bcabb8",
   "metadata": {},
   "outputs": [],
   "source": [
    "df = pd.DataFrame()\n",
    "df[\"Symbol\"] = symbol\n",
    "df[\"Price\"] = price\n",
    "df[\"Earnings\"] = earnings"
   ]
  },
  {
   "cell_type": "code",
   "execution_count": 5,
   "id": "6ac5c3d6",
   "metadata": {},
   "outputs": [
    {
     "data": {
      "text/html": [
       "<div>\n",
       "<style scoped>\n",
       "    .dataframe tbody tr th:only-of-type {\n",
       "        vertical-align: middle;\n",
       "    }\n",
       "\n",
       "    .dataframe tbody tr th {\n",
       "        vertical-align: top;\n",
       "    }\n",
       "\n",
       "    .dataframe thead th {\n",
       "        text-align: right;\n",
       "    }\n",
       "</style>\n",
       "<table border=\"1\" class=\"dataframe\">\n",
       "  <thead>\n",
       "    <tr style=\"text-align: right;\">\n",
       "      <th></th>\n",
       "      <th>Symbol</th>\n",
       "      <th>Price</th>\n",
       "      <th>Earnings</th>\n",
       "    </tr>\n",
       "  </thead>\n",
       "  <tbody>\n",
       "    <tr>\n",
       "      <th>0</th>\n",
       "      <td>IBM</td>\n",
       "      <td>134.35</td>\n",
       "      <td>8.60</td>\n",
       "    </tr>\n",
       "    <tr>\n",
       "      <th>1</th>\n",
       "      <td>MSFT</td>\n",
       "      <td>151.78</td>\n",
       "      <td>5.30</td>\n",
       "    </tr>\n",
       "    <tr>\n",
       "      <th>2</th>\n",
       "      <td>ORCL</td>\n",
       "      <td>55.68</td>\n",
       "      <td>3.06</td>\n",
       "    </tr>\n",
       "    <tr>\n",
       "      <th>3</th>\n",
       "      <td>AAPL</td>\n",
       "      <td>267.50</td>\n",
       "      <td>11.89</td>\n",
       "    </tr>\n",
       "  </tbody>\n",
       "</table>\n",
       "</div>"
      ],
      "text/plain": [
       "  Symbol   Price  Earnings\n",
       "0    IBM  134.35      8.60\n",
       "1   MSFT  151.78      5.30\n",
       "2   ORCL   55.68      3.06\n",
       "3   AAPL  267.50     11.89"
      ]
     },
     "execution_count": 5,
     "metadata": {},
     "output_type": "execute_result"
    }
   ],
   "source": [
    "df"
   ]
  },
  {
   "cell_type": "markdown",
   "id": "07fd4384",
   "metadata": {},
   "source": [
    "# 3.Using formula calculate P/E ratio and seve results as a DataFrame column with PE name"
   ]
  },
  {
   "cell_type": "markdown",
   "id": "04aa395c",
   "metadata": {},
   "source": [
    "```\n",
    "P/E Ratio = Market value per share/Earnings per share\n",
    "```"
   ]
  },
  {
   "cell_type": "code",
   "execution_count": 7,
   "id": "fb8ec2ff",
   "metadata": {},
   "outputs": [
    {
     "data": {
      "text/html": [
       "<div>\n",
       "<style scoped>\n",
       "    .dataframe tbody tr th:only-of-type {\n",
       "        vertical-align: middle;\n",
       "    }\n",
       "\n",
       "    .dataframe tbody tr th {\n",
       "        vertical-align: top;\n",
       "    }\n",
       "\n",
       "    .dataframe thead th {\n",
       "        text-align: right;\n",
       "    }\n",
       "</style>\n",
       "<table border=\"1\" class=\"dataframe\">\n",
       "  <thead>\n",
       "    <tr style=\"text-align: right;\">\n",
       "      <th></th>\n",
       "      <th>Symbol</th>\n",
       "      <th>Price</th>\n",
       "      <th>Earnings</th>\n",
       "      <th>PE</th>\n",
       "    </tr>\n",
       "  </thead>\n",
       "  <tbody>\n",
       "    <tr>\n",
       "      <th>0</th>\n",
       "      <td>IBM</td>\n",
       "      <td>134.35</td>\n",
       "      <td>8.60</td>\n",
       "      <td>15.622093</td>\n",
       "    </tr>\n",
       "    <tr>\n",
       "      <th>1</th>\n",
       "      <td>MSFT</td>\n",
       "      <td>151.78</td>\n",
       "      <td>5.30</td>\n",
       "      <td>28.637736</td>\n",
       "    </tr>\n",
       "    <tr>\n",
       "      <th>2</th>\n",
       "      <td>ORCL</td>\n",
       "      <td>55.68</td>\n",
       "      <td>3.06</td>\n",
       "      <td>18.196078</td>\n",
       "    </tr>\n",
       "    <tr>\n",
       "      <th>3</th>\n",
       "      <td>AAPL</td>\n",
       "      <td>267.50</td>\n",
       "      <td>11.89</td>\n",
       "      <td>22.497897</td>\n",
       "    </tr>\n",
       "  </tbody>\n",
       "</table>\n",
       "</div>"
      ],
      "text/plain": [
       "  Symbol   Price  Earnings         PE\n",
       "0    IBM  134.35      8.60  15.622093\n",
       "1   MSFT  151.78      5.30  28.637736\n",
       "2   ORCL   55.68      3.06  18.196078\n",
       "3   AAPL  267.50     11.89  22.497897"
      ]
     },
     "execution_count": 7,
     "metadata": {},
     "output_type": "execute_result"
    }
   ],
   "source": [
    "df[\"PE\"] = df[\"Price\"]/df[\"Earnings\"]\n",
    "df"
   ]
  },
  {
   "cell_type": "markdown",
   "id": "60e87baf",
   "metadata": {},
   "source": [
    "# 4. Using method round() round up the vales in PE column up to 2 numbers after decimal poin"
   ]
  },
  {
   "cell_type": "code",
   "execution_count": 8,
   "id": "6eca783e",
   "metadata": {},
   "outputs": [],
   "source": [
    "df[\"PE\"] = df[\"PE\"].round(2)"
   ]
  },
  {
   "cell_type": "code",
   "execution_count": 9,
   "id": "d73ef22c",
   "metadata": {},
   "outputs": [
    {
     "data": {
      "text/html": [
       "<div>\n",
       "<style scoped>\n",
       "    .dataframe tbody tr th:only-of-type {\n",
       "        vertical-align: middle;\n",
       "    }\n",
       "\n",
       "    .dataframe tbody tr th {\n",
       "        vertical-align: top;\n",
       "    }\n",
       "\n",
       "    .dataframe thead th {\n",
       "        text-align: right;\n",
       "    }\n",
       "</style>\n",
       "<table border=\"1\" class=\"dataframe\">\n",
       "  <thead>\n",
       "    <tr style=\"text-align: right;\">\n",
       "      <th></th>\n",
       "      <th>Symbol</th>\n",
       "      <th>Price</th>\n",
       "      <th>Earnings</th>\n",
       "      <th>PE</th>\n",
       "    </tr>\n",
       "  </thead>\n",
       "  <tbody>\n",
       "    <tr>\n",
       "      <th>0</th>\n",
       "      <td>IBM</td>\n",
       "      <td>134.35</td>\n",
       "      <td>8.60</td>\n",
       "      <td>15.62</td>\n",
       "    </tr>\n",
       "    <tr>\n",
       "      <th>1</th>\n",
       "      <td>MSFT</td>\n",
       "      <td>151.78</td>\n",
       "      <td>5.30</td>\n",
       "      <td>28.64</td>\n",
       "    </tr>\n",
       "    <tr>\n",
       "      <th>2</th>\n",
       "      <td>ORCL</td>\n",
       "      <td>55.68</td>\n",
       "      <td>3.06</td>\n",
       "      <td>18.20</td>\n",
       "    </tr>\n",
       "    <tr>\n",
       "      <th>3</th>\n",
       "      <td>AAPL</td>\n",
       "      <td>267.50</td>\n",
       "      <td>11.89</td>\n",
       "      <td>22.50</td>\n",
       "    </tr>\n",
       "  </tbody>\n",
       "</table>\n",
       "</div>"
      ],
      "text/plain": [
       "  Symbol   Price  Earnings     PE\n",
       "0    IBM  134.35      8.60  15.62\n",
       "1   MSFT  151.78      5.30  28.64\n",
       "2   ORCL   55.68      3.06  18.20\n",
       "3   AAPL  267.50     11.89  22.50"
      ]
     },
     "execution_count": 9,
     "metadata": {},
     "output_type": "execute_result"
    }
   ],
   "source": [
    "df"
   ]
  },
  {
   "cell_type": "markdown",
   "id": "5a4f9c88",
   "metadata": {},
   "source": [
    "# 5. Add new column, call it \"Market_Cap\" with 0 values"
   ]
  },
  {
   "cell_type": "code",
   "execution_count": 10,
   "id": "d4c2be78",
   "metadata": {},
   "outputs": [],
   "source": [
    "df[\"Market_Cap\"] = 0"
   ]
  },
  {
   "cell_type": "code",
   "execution_count": 11,
   "id": "beeb9e70",
   "metadata": {},
   "outputs": [
    {
     "data": {
      "text/html": [
       "<div>\n",
       "<style scoped>\n",
       "    .dataframe tbody tr th:only-of-type {\n",
       "        vertical-align: middle;\n",
       "    }\n",
       "\n",
       "    .dataframe tbody tr th {\n",
       "        vertical-align: top;\n",
       "    }\n",
       "\n",
       "    .dataframe thead th {\n",
       "        text-align: right;\n",
       "    }\n",
       "</style>\n",
       "<table border=\"1\" class=\"dataframe\">\n",
       "  <thead>\n",
       "    <tr style=\"text-align: right;\">\n",
       "      <th></th>\n",
       "      <th>Symbol</th>\n",
       "      <th>Price</th>\n",
       "      <th>Earnings</th>\n",
       "      <th>PE</th>\n",
       "      <th>Market_Cap</th>\n",
       "    </tr>\n",
       "  </thead>\n",
       "  <tbody>\n",
       "    <tr>\n",
       "      <th>0</th>\n",
       "      <td>IBM</td>\n",
       "      <td>134.35</td>\n",
       "      <td>8.60</td>\n",
       "      <td>15.62</td>\n",
       "      <td>0</td>\n",
       "    </tr>\n",
       "    <tr>\n",
       "      <th>1</th>\n",
       "      <td>MSFT</td>\n",
       "      <td>151.78</td>\n",
       "      <td>5.30</td>\n",
       "      <td>28.64</td>\n",
       "      <td>0</td>\n",
       "    </tr>\n",
       "    <tr>\n",
       "      <th>2</th>\n",
       "      <td>ORCL</td>\n",
       "      <td>55.68</td>\n",
       "      <td>3.06</td>\n",
       "      <td>18.20</td>\n",
       "      <td>0</td>\n",
       "    </tr>\n",
       "    <tr>\n",
       "      <th>3</th>\n",
       "      <td>AAPL</td>\n",
       "      <td>267.50</td>\n",
       "      <td>11.89</td>\n",
       "      <td>22.50</td>\n",
       "      <td>0</td>\n",
       "    </tr>\n",
       "  </tbody>\n",
       "</table>\n",
       "</div>"
      ],
      "text/plain": [
       "  Symbol   Price  Earnings     PE  Market_Cap\n",
       "0    IBM  134.35      8.60  15.62           0\n",
       "1   MSFT  151.78      5.30  28.64           0\n",
       "2   ORCL   55.68      3.06  18.20           0\n",
       "3   AAPL  267.50     11.89  22.50           0"
      ]
     },
     "execution_count": 11,
     "metadata": {},
     "output_type": "execute_result"
    }
   ],
   "source": [
    "df"
   ]
  },
  {
   "cell_type": "markdown",
   "id": "c576cb1a",
   "metadata": {},
   "source": [
    "# 6. Add the following data to Market_Cap column"
   ]
  },
  {
   "cell_type": "code",
   "execution_count": 12,
   "id": "2003461d",
   "metadata": {},
   "outputs": [],
   "source": [
    "mc = [\"120B\",\"1.2T\",\"185.033B\",\"1.218T\"]"
   ]
  },
  {
   "cell_type": "code",
   "execution_count": 13,
   "id": "9666f557",
   "metadata": {},
   "outputs": [],
   "source": [
    "df[\"Market_Cap\"] = mc"
   ]
  },
  {
   "cell_type": "code",
   "execution_count": 14,
   "id": "b1e0b13e",
   "metadata": {},
   "outputs": [
    {
     "data": {
      "text/html": [
       "<div>\n",
       "<style scoped>\n",
       "    .dataframe tbody tr th:only-of-type {\n",
       "        vertical-align: middle;\n",
       "    }\n",
       "\n",
       "    .dataframe tbody tr th {\n",
       "        vertical-align: top;\n",
       "    }\n",
       "\n",
       "    .dataframe thead th {\n",
       "        text-align: right;\n",
       "    }\n",
       "</style>\n",
       "<table border=\"1\" class=\"dataframe\">\n",
       "  <thead>\n",
       "    <tr style=\"text-align: right;\">\n",
       "      <th></th>\n",
       "      <th>Symbol</th>\n",
       "      <th>Price</th>\n",
       "      <th>Earnings</th>\n",
       "      <th>PE</th>\n",
       "      <th>Market_Cap</th>\n",
       "    </tr>\n",
       "  </thead>\n",
       "  <tbody>\n",
       "    <tr>\n",
       "      <th>0</th>\n",
       "      <td>IBM</td>\n",
       "      <td>134.35</td>\n",
       "      <td>8.60</td>\n",
       "      <td>15.62</td>\n",
       "      <td>120B</td>\n",
       "    </tr>\n",
       "    <tr>\n",
       "      <th>1</th>\n",
       "      <td>MSFT</td>\n",
       "      <td>151.78</td>\n",
       "      <td>5.30</td>\n",
       "      <td>28.64</td>\n",
       "      <td>1.2T</td>\n",
       "    </tr>\n",
       "    <tr>\n",
       "      <th>2</th>\n",
       "      <td>ORCL</td>\n",
       "      <td>55.68</td>\n",
       "      <td>3.06</td>\n",
       "      <td>18.20</td>\n",
       "      <td>185.033B</td>\n",
       "    </tr>\n",
       "    <tr>\n",
       "      <th>3</th>\n",
       "      <td>AAPL</td>\n",
       "      <td>267.50</td>\n",
       "      <td>11.89</td>\n",
       "      <td>22.50</td>\n",
       "      <td>1.218T</td>\n",
       "    </tr>\n",
       "  </tbody>\n",
       "</table>\n",
       "</div>"
      ],
      "text/plain": [
       "  Symbol   Price  Earnings     PE Market_Cap\n",
       "0    IBM  134.35      8.60  15.62       120B\n",
       "1   MSFT  151.78      5.30  28.64       1.2T\n",
       "2   ORCL   55.68      3.06  18.20   185.033B\n",
       "3   AAPL  267.50     11.89  22.50     1.218T"
      ]
     },
     "execution_count": 14,
     "metadata": {},
     "output_type": "execute_result"
    }
   ],
   "source": [
    "df"
   ]
  },
  {
   "cell_type": "markdown",
   "id": "89dbae5d",
   "metadata": {},
   "source": [
    "# 7. Use the values from column \"Symbol\" as Index"
   ]
  },
  {
   "cell_type": "code",
   "execution_count": 16,
   "id": "c2ad172f",
   "metadata": {},
   "outputs": [],
   "source": [
    "df.index = df[\"Symbol\"]"
   ]
  },
  {
   "cell_type": "code",
   "execution_count": 17,
   "id": "da4c0bb4",
   "metadata": {},
   "outputs": [
    {
     "data": {
      "text/html": [
       "<div>\n",
       "<style scoped>\n",
       "    .dataframe tbody tr th:only-of-type {\n",
       "        vertical-align: middle;\n",
       "    }\n",
       "\n",
       "    .dataframe tbody tr th {\n",
       "        vertical-align: top;\n",
       "    }\n",
       "\n",
       "    .dataframe thead th {\n",
       "        text-align: right;\n",
       "    }\n",
       "</style>\n",
       "<table border=\"1\" class=\"dataframe\">\n",
       "  <thead>\n",
       "    <tr style=\"text-align: right;\">\n",
       "      <th></th>\n",
       "      <th>Symbol</th>\n",
       "      <th>Price</th>\n",
       "      <th>Earnings</th>\n",
       "      <th>PE</th>\n",
       "      <th>Market_Cap</th>\n",
       "    </tr>\n",
       "    <tr>\n",
       "      <th>Symbol</th>\n",
       "      <th></th>\n",
       "      <th></th>\n",
       "      <th></th>\n",
       "      <th></th>\n",
       "      <th></th>\n",
       "    </tr>\n",
       "  </thead>\n",
       "  <tbody>\n",
       "    <tr>\n",
       "      <th>IBM</th>\n",
       "      <td>IBM</td>\n",
       "      <td>134.35</td>\n",
       "      <td>8.60</td>\n",
       "      <td>15.62</td>\n",
       "      <td>120B</td>\n",
       "    </tr>\n",
       "    <tr>\n",
       "      <th>MSFT</th>\n",
       "      <td>MSFT</td>\n",
       "      <td>151.78</td>\n",
       "      <td>5.30</td>\n",
       "      <td>28.64</td>\n",
       "      <td>1.2T</td>\n",
       "    </tr>\n",
       "    <tr>\n",
       "      <th>ORCL</th>\n",
       "      <td>ORCL</td>\n",
       "      <td>55.68</td>\n",
       "      <td>3.06</td>\n",
       "      <td>18.20</td>\n",
       "      <td>185.033B</td>\n",
       "    </tr>\n",
       "    <tr>\n",
       "      <th>AAPL</th>\n",
       "      <td>AAPL</td>\n",
       "      <td>267.50</td>\n",
       "      <td>11.89</td>\n",
       "      <td>22.50</td>\n",
       "      <td>1.218T</td>\n",
       "    </tr>\n",
       "  </tbody>\n",
       "</table>\n",
       "</div>"
      ],
      "text/plain": [
       "       Symbol   Price  Earnings     PE Market_Cap\n",
       "Symbol                                           \n",
       "IBM       IBM  134.35      8.60  15.62       120B\n",
       "MSFT     MSFT  151.78      5.30  28.64       1.2T\n",
       "ORCL     ORCL   55.68      3.06  18.20   185.033B\n",
       "AAPL     AAPL  267.50     11.89  22.50     1.218T"
      ]
     },
     "execution_count": 17,
     "metadata": {},
     "output_type": "execute_result"
    }
   ],
   "source": [
    "df"
   ]
  },
  {
   "cell_type": "markdown",
   "id": "a4ec6c92",
   "metadata": {},
   "source": [
    "# 8. Get rid of the \"Symbol\" column"
   ]
  },
  {
   "cell_type": "code",
   "execution_count": 18,
   "id": "76db7ccf",
   "metadata": {},
   "outputs": [],
   "source": [
    "df.drop(\"Symbol\",axis=1,inplace=True)"
   ]
  },
  {
   "cell_type": "markdown",
   "id": "6e3aaf7d",
   "metadata": {},
   "source": [
    "# 9. Find all stocks where the price is less than $100"
   ]
  },
  {
   "cell_type": "code",
   "execution_count": 21,
   "id": "fc3c8b6e",
   "metadata": {},
   "outputs": [
    {
     "data": {
      "text/html": [
       "<div>\n",
       "<style scoped>\n",
       "    .dataframe tbody tr th:only-of-type {\n",
       "        vertical-align: middle;\n",
       "    }\n",
       "\n",
       "    .dataframe tbody tr th {\n",
       "        vertical-align: top;\n",
       "    }\n",
       "\n",
       "    .dataframe thead th {\n",
       "        text-align: right;\n",
       "    }\n",
       "</style>\n",
       "<table border=\"1\" class=\"dataframe\">\n",
       "  <thead>\n",
       "    <tr style=\"text-align: right;\">\n",
       "      <th></th>\n",
       "      <th>Price</th>\n",
       "      <th>Earnings</th>\n",
       "      <th>PE</th>\n",
       "      <th>Market_Cap</th>\n",
       "    </tr>\n",
       "    <tr>\n",
       "      <th>Symbol</th>\n",
       "      <th></th>\n",
       "      <th></th>\n",
       "      <th></th>\n",
       "      <th></th>\n",
       "    </tr>\n",
       "  </thead>\n",
       "  <tbody>\n",
       "    <tr>\n",
       "      <th>ORCL</th>\n",
       "      <td>55.68</td>\n",
       "      <td>3.06</td>\n",
       "      <td>18.2</td>\n",
       "      <td>185.033B</td>\n",
       "    </tr>\n",
       "  </tbody>\n",
       "</table>\n",
       "</div>"
      ],
      "text/plain": [
       "        Price  Earnings    PE Market_Cap\n",
       "Symbol                                  \n",
       "ORCL    55.68      3.06  18.2   185.033B"
      ]
     },
     "execution_count": 21,
     "metadata": {},
     "output_type": "execute_result"
    }
   ],
   "source": [
    "df[ df[\"Price\"] < 100 ]"
   ]
  },
  {
   "cell_type": "markdown",
   "id": "5bafca61",
   "metadata": {},
   "source": [
    "# 10. Which stock has the highest PE Ratio"
   ]
  },
  {
   "cell_type": "code",
   "execution_count": 22,
   "id": "76d9538d",
   "metadata": {
    "scrolled": true
   },
   "outputs": [
    {
     "data": {
      "text/html": [
       "<div>\n",
       "<style scoped>\n",
       "    .dataframe tbody tr th:only-of-type {\n",
       "        vertical-align: middle;\n",
       "    }\n",
       "\n",
       "    .dataframe tbody tr th {\n",
       "        vertical-align: top;\n",
       "    }\n",
       "\n",
       "    .dataframe thead th {\n",
       "        text-align: right;\n",
       "    }\n",
       "</style>\n",
       "<table border=\"1\" class=\"dataframe\">\n",
       "  <thead>\n",
       "    <tr style=\"text-align: right;\">\n",
       "      <th></th>\n",
       "      <th>Price</th>\n",
       "      <th>Earnings</th>\n",
       "      <th>PE</th>\n",
       "      <th>Market_Cap</th>\n",
       "    </tr>\n",
       "    <tr>\n",
       "      <th>Symbol</th>\n",
       "      <th></th>\n",
       "      <th></th>\n",
       "      <th></th>\n",
       "      <th></th>\n",
       "    </tr>\n",
       "  </thead>\n",
       "  <tbody>\n",
       "    <tr>\n",
       "      <th>MSFT</th>\n",
       "      <td>151.78</td>\n",
       "      <td>5.3</td>\n",
       "      <td>28.64</td>\n",
       "      <td>1.2T</td>\n",
       "    </tr>\n",
       "  </tbody>\n",
       "</table>\n",
       "</div>"
      ],
      "text/plain": [
       "         Price  Earnings     PE Market_Cap\n",
       "Symbol                                    \n",
       "MSFT    151.78       5.3  28.64       1.2T"
      ]
     },
     "execution_count": 22,
     "metadata": {},
     "output_type": "execute_result"
    }
   ],
   "source": [
    "df[ df[\"PE\"] == df[\"PE\"].max() ]"
   ]
  },
  {
   "cell_type": "markdown",
   "id": "1e5c105a",
   "metadata": {},
   "source": [
    "# 11. Covert the values in \"Market_Cap\" from Trillions to Billions using the formula below, also make sure the values are numerc data types."
   ]
  },
  {
   "cell_type": "markdown",
   "id": "18200c07",
   "metadata": {},
   "source": [
    "```\n",
    "How to Convert Trillions to Billions.\n",
    "There are 1000 billions in a trillion ie. 1 trillion is equal to 1000 billions. So to convert trillions to billions just multiply trillions value with 1000.\n",
    "\n",
    "Example : to convert 13 trillion to billion\n",
    "\n",
    "13 trillions equals 13 x 1000 billions i.e 13000 billions.\n",
    "```"
   ]
  },
  {
   "cell_type": "markdown",
   "id": "d3613758",
   "metadata": {},
   "source": [
    "Hint: use apply() and lambda, save new values in the new column \"Billions\""
   ]
  },
  {
   "cell_type": "code",
   "execution_count": 23,
   "id": "2d9fe3ca",
   "metadata": {},
   "outputs": [],
   "source": [
    "df[\"Billions\"]=df[\"Market_Cap\"].apply(lambda x : float(x.strip(\"T\"))*1000 if \"T\" in x else float(x.strip(\"B\")))"
   ]
  },
  {
   "cell_type": "code",
   "execution_count": 24,
   "id": "b344538d",
   "metadata": {},
   "outputs": [
    {
     "data": {
      "text/html": [
       "<div>\n",
       "<style scoped>\n",
       "    .dataframe tbody tr th:only-of-type {\n",
       "        vertical-align: middle;\n",
       "    }\n",
       "\n",
       "    .dataframe tbody tr th {\n",
       "        vertical-align: top;\n",
       "    }\n",
       "\n",
       "    .dataframe thead th {\n",
       "        text-align: right;\n",
       "    }\n",
       "</style>\n",
       "<table border=\"1\" class=\"dataframe\">\n",
       "  <thead>\n",
       "    <tr style=\"text-align: right;\">\n",
       "      <th></th>\n",
       "      <th>Price</th>\n",
       "      <th>Earnings</th>\n",
       "      <th>PE</th>\n",
       "      <th>Market_Cap</th>\n",
       "      <th>Billions</th>\n",
       "    </tr>\n",
       "    <tr>\n",
       "      <th>Symbol</th>\n",
       "      <th></th>\n",
       "      <th></th>\n",
       "      <th></th>\n",
       "      <th></th>\n",
       "      <th></th>\n",
       "    </tr>\n",
       "  </thead>\n",
       "  <tbody>\n",
       "    <tr>\n",
       "      <th>IBM</th>\n",
       "      <td>134.35</td>\n",
       "      <td>8.60</td>\n",
       "      <td>15.62</td>\n",
       "      <td>120B</td>\n",
       "      <td>120.000</td>\n",
       "    </tr>\n",
       "    <tr>\n",
       "      <th>MSFT</th>\n",
       "      <td>151.78</td>\n",
       "      <td>5.30</td>\n",
       "      <td>28.64</td>\n",
       "      <td>1.2T</td>\n",
       "      <td>1200.000</td>\n",
       "    </tr>\n",
       "    <tr>\n",
       "      <th>ORCL</th>\n",
       "      <td>55.68</td>\n",
       "      <td>3.06</td>\n",
       "      <td>18.20</td>\n",
       "      <td>185.033B</td>\n",
       "      <td>185.033</td>\n",
       "    </tr>\n",
       "    <tr>\n",
       "      <th>AAPL</th>\n",
       "      <td>267.50</td>\n",
       "      <td>11.89</td>\n",
       "      <td>22.50</td>\n",
       "      <td>1.218T</td>\n",
       "      <td>1218.000</td>\n",
       "    </tr>\n",
       "  </tbody>\n",
       "</table>\n",
       "</div>"
      ],
      "text/plain": [
       "         Price  Earnings     PE Market_Cap  Billions\n",
       "Symbol                                              \n",
       "IBM     134.35      8.60  15.62       120B   120.000\n",
       "MSFT    151.78      5.30  28.64       1.2T  1200.000\n",
       "ORCL     55.68      3.06  18.20   185.033B   185.033\n",
       "AAPL    267.50     11.89  22.50     1.218T  1218.000"
      ]
     },
     "execution_count": 24,
     "metadata": {},
     "output_type": "execute_result"
    }
   ],
   "source": [
    "df"
   ]
  },
  {
   "cell_type": "markdown",
   "id": "5f032fec",
   "metadata": {},
   "source": [
    "# 12. Get the total Market Capitalization of all companies in the portfolio by summing up the values in \"Billions\" columns"
   ]
  },
  {
   "cell_type": "code",
   "execution_count": 25,
   "id": "6b80d0b5",
   "metadata": {},
   "outputs": [
    {
     "data": {
      "text/plain": [
       "2723.033"
      ]
     },
     "execution_count": 25,
     "metadata": {},
     "output_type": "execute_result"
    }
   ],
   "source": [
    "df[\"Billions\"].sum()"
   ]
  },
  {
   "cell_type": "markdown",
   "id": "135a292d",
   "metadata": {},
   "source": [
    "# 13. Fetch the Price of \"ORCL\" using method loc"
   ]
  },
  {
   "cell_type": "code",
   "execution_count": 27,
   "id": "ddaf4a01",
   "metadata": {},
   "outputs": [
    {
     "data": {
      "text/plain": [
       "55.68"
      ]
     },
     "execution_count": 27,
     "metadata": {},
     "output_type": "execute_result"
    }
   ],
   "source": [
    "df.loc[\"ORCL\",\"Price\"]"
   ]
  }
 ],
 "metadata": {
  "kernelspec": {
   "display_name": "Python 3 (ipykernel)",
   "language": "python",
   "name": "python3"
  },
  "language_info": {
   "codemirror_mode": {
    "name": "ipython",
    "version": 3
   },
   "file_extension": ".py",
   "mimetype": "text/x-python",
   "name": "python",
   "nbconvert_exporter": "python",
   "pygments_lexer": "ipython3",
   "version": "3.9.7"
  }
 },
 "nbformat": 4,
 "nbformat_minor": 5
}
